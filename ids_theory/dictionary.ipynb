{
 "cells": [
  {
   "cell_type": "code",
   "execution_count": null,
   "id": "10ab843e-7813-46ac-a4d2-154c4676b5ef",
   "metadata": {},
   "outputs": [],
   "source": [
    "# Practice Question 1\n",
    "\n",
    "Students = {\n",
    "    'Ali':{\n",
    "        'Maths':69,\n",
    "        'Urdu':96,\n",
    "        'Scince':99\n",
    "    },\n",
    "\n",
    "    'Haseeb':{\n",
    "        'Maths':55,\n",
    "        'Urdu':65,\n",
    "        'Science':79\n",
    "    }\n",
    "}\n",
    "\n",
    "print( Students['Ali'] )\n",
    "print( Students['Haseeb'] )\n",
    "print( Students)"
   ]
  },
  {
   "cell_type": "code",
   "execution_count": 9,
   "id": "cbea5aa1-7e88-4e27-89ad-92fde7b3f68a",
   "metadata": {},
   "outputs": [
    {
     "name": "stdout",
     "output_type": "stream",
     "text": [
      "Highest in Maths: Ali (69)\n"
     ]
    }
   ],
   "source": [
    "# Practice 2\n",
    "\n",
    "Students = {\n",
    "    'Ali':{\n",
    "        'Maths':69,\n",
    "        'Urdu':96,\n",
    "        'Scince':99\n",
    "    },\n",
    "\n",
    "    'Haseeb':{\n",
    "        'Maths':55,\n",
    "        'Urdu':65,\n",
    "        'Science':79\n",
    "    }\n",
    "}\n",
    "\n",
    "subject = \"Maths\"   # you can change to English/Science\n",
    "highest = None\n",
    "topper = None\n",
    "\n",
    "for name, subjects in Students.items():\n",
    "    if highest is None or subjects[subject] > highest:\n",
    "        highest = subjects[subject]\n",
    "        topper = name\n",
    "\n",
    "print(f\"Highest in {subject}: {topper} ({highest})\")\n"
   ]
  },
  {
   "cell_type": "code",
   "execution_count": null,
   "id": "8bce9047-1c2f-4748-aaba-cf51a1bc8687",
   "metadata": {},
   "outputs": [],
   "source": []
  }
 ],
 "metadata": {
  "kernelspec": {
   "display_name": "Python 3 (ipykernel)",
   "language": "python",
   "name": "python3"
  },
  "language_info": {
   "codemirror_mode": {
    "name": "ipython",
    "version": 3
   },
   "file_extension": ".py",
   "mimetype": "text/x-python",
   "name": "python",
   "nbconvert_exporter": "python",
   "pygments_lexer": "ipython3",
   "version": "3.12.3"
  }
 },
 "nbformat": 4,
 "nbformat_minor": 5
}
