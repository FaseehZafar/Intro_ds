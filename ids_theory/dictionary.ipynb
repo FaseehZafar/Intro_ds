{
 "cells": [
  {
   "cell_type": "code",
   "execution_count": 29,
   "id": "10ab843e-7813-46ac-a4d2-154c4676b5ef",
   "metadata": {},
   "outputs": [
    {
     "name": "stdin",
     "output_type": "stream",
     "text": [
      "Tell me which students avg marks do you want? Faseeh\n"
     ]
    },
    {
     "name": "stdout",
     "output_type": "stream",
     "text": [
      "The avg of:  Faseeh is  90.33333333333333\n",
      "Topper is Faseeh with an average of 90.33\n"
     ]
    }
   ],
   "source": [
    "# Practice Question 1\n",
    "\n",
    "def avg(man):\n",
    "        avg = (Students[man]['Maths']+Students[man]['Urdu']+Students[man]['Science'])/3\n",
    "        print(\"The avg of: \", man ,\"is \",avg)\n",
    "\n",
    "def topper(Students):\n",
    "    averages={}\n",
    "\n",
    "    for name, subjects in Students.items():\n",
    "\n",
    "        avg=sum(subjects.values())/len(subjects) if subjects else 0\n",
    "        averages[name]= avg\n",
    "\n",
    "    topper =  max(averages, key=averages.get)\n",
    "    return topper, averages[topper]\n",
    "    \n",
    "\n",
    "Students = {\n",
    "    'Ali':{\n",
    "        'Maths':69,\n",
    "        'Urdu':96,\n",
    "        'Science':99\n",
    "    },\n",
    "\n",
    "    'Haseeb':{\n",
    "        'Maths':55,\n",
    "        'Urdu':65,\n",
    "        'Science':79\n",
    "    },\n",
    "\n",
    "    'Faseeh' :{\n",
    "        'Maths': 99,\n",
    "        'Urdu' : 87,\n",
    "        'Science' : 85\n",
    "        \n",
    "    }\n",
    "    \n",
    "}\n",
    "\n",
    "man = input(\"Tell me which students avg marks do you want?\")\n",
    "avg(man)\n",
    "\n",
    "topper, score = topper(Students)\n",
    "print(f\"Topper is {topper} with an average of {score:.2f}\")\n"
   ]
  },
  {
   "cell_type": "code",
   "execution_count": 9,
   "id": "cbea5aa1-7e88-4e27-89ad-92fde7b3f68a",
   "metadata": {},
   "outputs": [
    {
     "name": "stdout",
     "output_type": "stream",
     "text": [
      "Highest in Maths: Ali (69)\n"
     ]
    }
   ],
   "source": [
    "# Practice 2\n",
    "\n",
    "Students = {\n",
    "    'Ali':{\n",
    "        'Maths':69,\n",
    "        'Urdu':96,\n",
    "        'Scince':99\n",
    "    },\n",
    "\n",
    "    'Haseeb':{\n",
    "        'Maths':55,\n",
    "        'Urdu':65,\n",
    "        'Science':79\n",
    "    }\n",
    "}\n",
    "\n",
    "subject = \"Maths\"   # you can change to English/Science\n",
    "highest = None\n",
    "topper = None\n",
    "\n",
    "for name, subjects in Students.items():\n",
    "    if highest is None or subjects[subject] > highest:\n",
    "        highest = subjects[subject]\n",
    "        topper = name\n",
    "\n",
    "print(f\"Highest in {subject}: {topper} ({highest})\")\n"
   ]
  },
  {
   "cell_type": "code",
   "execution_count": 18,
   "id": "8bce9047-1c2f-4748-aaba-cf51a1bc8687",
   "metadata": {},
   "outputs": [
    {
     "name": "stdin",
     "output_type": "stream",
     "text": [
      "What contact of family do you want? Asfa\n"
     ]
    },
    {
     "name": "stdout",
     "output_type": "stream",
     "text": [
      "The Contact number of Asfa is : 923325171068\n"
     ]
    },
    {
     "name": "stdin",
     "output_type": "stream",
     "text": [
      "What contact of friends do you want? Haseeb\n"
     ]
    },
    {
     "name": "stdout",
     "output_type": "stream",
     "text": [
      "The Contact number of Haseeb is : 923385171068\n"
     ]
    }
   ],
   "source": [
    "# Practice 3\n",
    "def get_contactfam(name):\n",
    "        print(\"The Contact number of \"+ name +\" is :\", Contacts['Family'][name])\n",
    "    \n",
    "def get_contactfr(name2):\n",
    "        print(\"The Contact number of \"+ name_2 +\" is :\", Contacts['Friends'][name_2])\n",
    "    \n",
    "Contacts = {\n",
    "    'Family' : {\n",
    "            'Asfa': 923325171068 ,\n",
    "            'Haris': 923375171068\n",
    "        \n",
    "    },\n",
    "\n",
    "    'Friends' : {\n",
    "            'Zain': 923395171068 ,\n",
    "            'Haseeb': 923385171068\n",
    "        \n",
    "    }\n",
    "}\n",
    "\n",
    "name = input(\"What contact of family do you want?\")\n",
    "get_contactfam(name)\n",
    "\n",
    "name_2 = input(\"What contact of friends do you want?\")\n",
    "get_contactfr(name_2)\n",
    "\n"
   ]
  },
  {
   "cell_type": "code",
   "execution_count": 23,
   "id": "d318bd83-9fe9-4fd4-8fde-2a62715e6382",
   "metadata": {},
   "outputs": [
    {
     "name": "stdin",
     "output_type": "stream",
     "text": [
      "Tell me which book do you want to borrow(harry_potter/you_cant) harry_potter\n",
      "How many books do you want to borrow? 5\n"
     ]
    },
    {
     "name": "stdout",
     "output_type": "stream",
     "text": [
      "The Remaining books are:  64\n"
     ]
    }
   ],
   "source": [
    "# Practice # 4\n",
    "def borrow_book(quantity):\n",
    "        Library[book]['Copies'] -= quantity\n",
    "        print(\"The Remaining books are: \", Library[book]['Copies'])\n",
    "\n",
    "Library = {\n",
    "\n",
    "    'harry_potter': {\n",
    "        'Author':\"Jk Rowling\",\n",
    "        'Year' :1997,\n",
    "        'Copies':69\n",
    "    },\n",
    "\n",
    "    'you_cant': {\n",
    "        'Author':\"David Goggins\",\n",
    "        'Year' :2018,\n",
    "        'Copies':111\n",
    "\n",
    "    }\n",
    "}\n",
    "    \n",
    "book = input(\"Tell me which book do you want to borrow(harry_potter/you_cant)\")\n",
    "quantity = int(input(\"How many books do you want to borrow?\"))\n",
    "borrow_book(quantity)\n"
   ]
  },
  {
   "cell_type": "code",
   "execution_count": 33,
   "id": "b87692c7-f742-471b-901d-6d2ac1fbc6e4",
   "metadata": {},
   "outputs": [
    {
     "name": "stdin",
     "output_type": "stream",
     "text": [
      "Enter the id of the employee:  101\n",
      "Enter the percent raise of the employee:  5\n"
     ]
    },
    {
     "name": "stdout",
     "output_type": "stream",
     "text": [
      "Updated record: {'Name': 'Muhammad Haris', 'dept': 'HR', 'Salary': 84000.0}\n"
     ]
    }
   ],
   "source": [
    "def raise_salary(Employees, idc, percent):\n",
    "    for emp_id, details in Employees.items():\n",
    "        if emp_id == idc:\n",
    "            old_salary = details['Salary']\n",
    "            raised_income = old_salary + (percent / 100) * old_salary\n",
    "            details['Salary'] = raised_income\n",
    "            return details   # return updated employee record\n",
    "\n",
    "    return None   # if id not found\n",
    "\n",
    "\n",
    "Employees = {\n",
    "    '101': {\n",
    "        'Name': \"Muhammad Haris\",\n",
    "        'dept': \"HR\",\n",
    "        'Salary': 80000\n",
    "    },\n",
    "    '102': {\n",
    "        'Name': \"Muhammad Moiz\",\n",
    "        'dept': \"IT\",\n",
    "        'Salary': 95000\n",
    "    },\n",
    "    '103': {\n",
    "        'Name': \"Muhammad Jawad\",\n",
    "        'dept': \"Sales\",\n",
    "        'Salary': 100000\n",
    "    }\n",
    "}\n",
    "\n",
    "idc = input(\"Enter the id of the employee: \")\n",
    "percent = int(input(\"Enter the percent raise of the employee: \"))\n",
    "\n",
    "updated = raise_salary(Employees, idc, percent)\n",
    "\n",
    "if updated:\n",
    "    print(f\"Updated record: {updated}\")\n",
    "else:\n",
    "    print(\"Employee not found!\")\n",
    "\n",
    "\n"
   ]
  },
  {
   "cell_type": "code",
   "execution_count": null,
   "id": "d5658819-a826-475c-9a31-a8a687d69426",
   "metadata": {},
   "outputs": [],
   "source": []
  }
 ],
 "metadata": {
  "kernelspec": {
   "display_name": "Python 3 (ipykernel)",
   "language": "python",
   "name": "python3"
  },
  "language_info": {
   "codemirror_mode": {
    "name": "ipython",
    "version": 3
   },
   "file_extension": ".py",
   "mimetype": "text/x-python",
   "name": "python",
   "nbconvert_exporter": "python",
   "pygments_lexer": "ipython3",
   "version": "3.12.3"
  }
 },
 "nbformat": 4,
 "nbformat_minor": 5
}
