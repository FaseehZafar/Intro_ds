{
 "cells": [
  {
   "cell_type": "code",
   "execution_count": 1,
   "id": "10ab843e-7813-46ac-a4d2-154c4676b5ef",
   "metadata": {},
   "outputs": [
    {
     "name": "stdout",
     "output_type": "stream",
     "text": [
      "{'Maths': 69, 'Urdu': 96, 'Science': 99}\n",
      "{'Maths': 55, 'Urdu': 65, 'Science': 79}\n",
      "{'Maths': 99, 'Urdu': 87, 'Science': 85}\n",
      "{'Ali': {'Maths': 69, 'Urdu': 96, 'Science': 99}, 'Haseeb': {'Maths': 55, 'Urdu': 65, 'Science': 79}, 'Faseeh': {'Maths': 99, 'Urdu': 87, 'Science': 85}}\n"
     ]
    }
   ],
   "source": [
    "# Practice Question 1\n",
    "\n",
    "Students = {\n",
    "    'Ali':{\n",
    "        'Maths':69,\n",
    "        'Urdu':96,\n",
    "        'Science':99\n",
    "    },\n",
    "\n",
    "    'Haseeb':{\n",
    "        'Maths':55,\n",
    "        'Urdu':65,\n",
    "        'Science':79\n",
    "    },\n",
    "\n",
    "    'Faseeh' :{\n",
    "        'Maths': 99,\n",
    "        'Urdu' : 87,\n",
    "        'Science' : 85\n",
    "        \n",
    "    }\n",
    "    \n",
    "}\n",
    "\n",
    "print( Students['Ali'] )\n",
    "print( Students['Haseeb'] )\n",
    "print( Students['Faseeh'] )\n",
    "print( Students)"
   ]
  },
  {
   "cell_type": "code",
   "execution_count": 9,
   "id": "cbea5aa1-7e88-4e27-89ad-92fde7b3f68a",
   "metadata": {},
   "outputs": [
    {
     "name": "stdout",
     "output_type": "stream",
     "text": [
      "Highest in Maths: Ali (69)\n"
     ]
    }
   ],
   "source": [
    "# Practice 2\n",
    "\n",
    "Students = {\n",
    "    'Ali':{\n",
    "        'Maths':69,\n",
    "        'Urdu':96,\n",
    "        'Scince':99\n",
    "    },\n",
    "\n",
    "    'Haseeb':{\n",
    "        'Maths':55,\n",
    "        'Urdu':65,\n",
    "        'Science':79\n",
    "    }\n",
    "}\n",
    "\n",
    "subject = \"Maths\"   # you can change to English/Science\n",
    "highest = None\n",
    "topper = None\n",
    "\n",
    "for name, subjects in Students.items():\n",
    "    if highest is None or subjects[subject] > highest:\n",
    "        highest = subjects[subject]\n",
    "        topper = name\n",
    "\n",
    "print(f\"Highest in {subject}: {topper} ({highest})\")\n"
   ]
  },
  {
   "cell_type": "code",
   "execution_count": 18,
   "id": "8bce9047-1c2f-4748-aaba-cf51a1bc8687",
   "metadata": {},
   "outputs": [
    {
     "name": "stdin",
     "output_type": "stream",
     "text": [
      "What contact of family do you want? Asfa\n"
     ]
    },
    {
     "name": "stdout",
     "output_type": "stream",
     "text": [
      "The Contact number of Asfa is : 923325171068\n"
     ]
    },
    {
     "name": "stdin",
     "output_type": "stream",
     "text": [
      "What contact of friends do you want? Haseeb\n"
     ]
    },
    {
     "name": "stdout",
     "output_type": "stream",
     "text": [
      "The Contact number of Haseeb is : 923385171068\n"
     ]
    }
   ],
   "source": [
    "# Practice 3\n",
    "def get_contactfam(name):\n",
    "        print(\"The Contact number of \"+ name +\" is :\", Contacts['Family'][name])\n",
    "    \n",
    "def get_contactfr(name2):\n",
    "        print(\"The Contact number of \"+ name_2 +\" is :\", Contacts['Friends'][name_2])\n",
    "    \n",
    "Contacts = {\n",
    "    'Family' : {\n",
    "            'Asfa': 923325171068 ,\n",
    "            'Haris': 923375171068\n",
    "        \n",
    "    },\n",
    "\n",
    "    'Friends' : {\n",
    "            'Zain': 923395171068 ,\n",
    "            'Haseeb': 923385171068\n",
    "        \n",
    "    }\n",
    "}\n",
    "\n",
    "name = input(\"What contact of family do you want?\")\n",
    "get_contactfam(name)\n",
    "\n",
    "name_2 = input(\"What contact of friends do you want?\")\n",
    "get_contactfr(name_2)\n",
    "\n"
   ]
  },
  {
   "cell_type": "code",
   "execution_count": null,
   "id": "d318bd83-9fe9-4fd4-8fde-2a62715e6382",
   "metadata": {},
   "outputs": [],
   "source": []
  }
 ],
 "metadata": {
  "kernelspec": {
   "display_name": "Python 3 (ipykernel)",
   "language": "python",
   "name": "python3"
  },
  "language_info": {
   "codemirror_mode": {
    "name": "ipython",
    "version": 3
   },
   "file_extension": ".py",
   "mimetype": "text/x-python",
   "name": "python",
   "nbconvert_exporter": "python",
   "pygments_lexer": "ipython3",
   "version": "3.12.3"
  }
 },
 "nbformat": 4,
 "nbformat_minor": 5
}
