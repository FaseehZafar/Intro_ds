{
 "cells": [
  {
   "cell_type": "code",
   "execution_count": 12,
   "id": "fa8515d2-6937-4e29-bfef-6b61e02d161a",
   "metadata": {},
   "outputs": [
    {
     "name": "stdin",
     "output_type": "stream",
     "text": [
      "Enter the account number:  1234\n",
      "Enter the name of the account holder:  1212\n",
      "Enter the balance of the account:  2000\n"
     ]
    },
    {
     "name": "stdout",
     "output_type": "stream",
     "text": [
      "Account Number: 1234\n",
      "Account Holder: 1212\n",
      "Account Balance: 2000.0\n"
     ]
    },
    {
     "name": "stdin",
     "output_type": "stream",
     "text": [
      "Enter the amount to be deposited:  1000\n"
     ]
    },
    {
     "name": "stdout",
     "output_type": "stream",
     "text": [
      "Account Number: 1234\n",
      "Account Holder: 1212\n",
      "Account Balance: 3000.0\n"
     ]
    },
    {
     "name": "stdin",
     "output_type": "stream",
     "text": [
      "Enter the amount to be withdrawn:  1000\n"
     ]
    },
    {
     "name": "stdout",
     "output_type": "stream",
     "text": [
      "Account Number: 1234\n",
      "Account Holder: 1212\n",
      "Account Balance: 2000.0\n",
      "Following is the amount after tax deduction:  1900.0\n"
     ]
    }
   ],
   "source": [
    "# Question no 1\n",
    "class Bank_account:\n",
    "    def __init__(self, account_number, name, balance):\n",
    "        self.account_number = account_number\n",
    "        self.name = name\n",
    "        self.balance = float(balance)\n",
    "        \n",
    "    def print_info(self):\n",
    "        print(\"Account Number:\", self.account_number)\n",
    "        print(\"Account Holder:\", self.name)\n",
    "        print(\"Account Balance:\", self.balance)        \n",
    "\n",
    "    def Deposit(self):\n",
    "        a = float(input(\"Enter the amount to be deposited: \"))\n",
    "        self.balance += a\n",
    "        p1.print_info()\n",
    "\n",
    "    def Withdraw(self):\n",
    "        b = float(input(\"Enter the amount to be withdrawn: \"))\n",
    "        if b > self.balance:\n",
    "            print(\"Insufficient balance.\")\n",
    "        else:\n",
    "            self.balance -= b\n",
    "        p1.print_info()\n",
    "\n",
    "    def Bank_fee(self):\n",
    "        c = self.balance * (5/100)\n",
    "        self.balance -= c\n",
    "        print(\"Following is the amount after tax deduction: \",self.balance)\n",
    "\n",
    "number = input(\"Enter the account number: \")     \n",
    "name = input(\"Enter the name of the account holder: \")\n",
    "balance = input(\"Enter the balance of the account: \")\n",
    "\n",
    "\n",
    "p1 = Bank_account(number, name, balance)\n",
    "\n",
    "\n",
    "p1.print_info()\n",
    "p1.Deposit()\n",
    "p1.Withdraw()\n",
    "p1.Bank_fee()"
   ]
  },
  {
   "cell_type": "code",
   "execution_count": 15,
   "id": "9ecd3539-cacd-4373-a19f-c026b8f38fbb",
   "metadata": {},
   "outputs": [
    {
     "name": "stdout",
     "output_type": "stream",
     "text": [
      "Matrix 1:\n",
      "[1, 2, 3]\n",
      "[4, 5, 6]\n",
      "\n",
      "Matrix 2:\n",
      "[7, 8, 9]\n",
      "[10, 11, 12]\n",
      "\n",
      "Addition:\n",
      "[8, 10, 12]\n",
      "[14, 16, 18]\n",
      "\n",
      "Multiplication:\n",
      "Multiplication not possible: Columns of A must match rows of B.\n",
      "\n",
      "Trying incompatible addition:\n",
      "Addition not possible: Matrices must have same dimensions.\n"
     ]
    }
   ],
   "source": [
    "# Question no 2\n",
    "class Matrix:\n",
    "    def __init__(self, data):\n",
    "        self.data = data\n",
    "        self.rows = len(data)\n",
    "        self.cols = len(data[0])\n",
    "\n",
    "    def display(self):\n",
    "        for row in self.data:\n",
    "            print(row)\n",
    "\n",
    "    def add(self, other):\n",
    "        if self.rows != other.rows or self.cols != other.cols:\n",
    "            print(\"Addition not possible: Matrices must have same dimensions.\")\n",
    "            return None\n",
    "        result = [\n",
    "            [self.data[i][j] + other.data[i][j] for j in range(self.cols)]\n",
    "            for i in range(self.rows)\n",
    "        ]\n",
    "        return Matrix(result)\n",
    "\n",
    "    def multiply(self, other):\n",
    "        if self.cols != other.rows:\n",
    "            print(\"Multiplication not possible: Columns of A must match rows of B.\")\n",
    "            return None\n",
    "        result = [\n",
    "            [sum(self.data[i][k] * other.data[k][j] for k in range(self.cols))\n",
    "             for j in range(other.cols)]\n",
    "            for i in range(self.rows)\n",
    "        ]\n",
    "        return Matrix(result)\n",
    "\n",
    "\n",
    "# Main Program\n",
    "m1 = Matrix([[1, 2, 3], [4, 5, 6]])\n",
    "m2 = Matrix([[7, 8, 9], [10, 11, 12]])\n",
    "\n",
    "print(\"Matrix 1:\")\n",
    "m1.display()\n",
    "\n",
    "print(\"\\nMatrix 2:\")\n",
    "m2.display()\n",
    "\n",
    "print(\"\\nAddition:\")\n",
    "res_add = m1.add(m2)\n",
    "if res_add:\n",
    "    res_add.display()\n",
    "\n",
    "print(\"\\nMultiplication:\")\n",
    "res_mul = m1.multiply(m2)\n",
    "if res_mul:\n",
    "    res_mul.display()\n",
    "\n",
    "# Trying incompatible addition\n",
    "m3 = Matrix([[1, 2], [3, 4], [5, 6]])\n",
    "print(\"\\nTrying incompatible addition:\")\n",
    "res_wrong = m1.add(m3)\n",
    "if res_wrong:\n",
    "    res_wrong.display()\n"
   ]
  },
  {
   "cell_type": "code",
   "execution_count": 33,
   "id": "bc6a389b-8f56-427d-8bdc-70a215ab5e57",
   "metadata": {},
   "outputs": [
    {
     "name": "stdout",
     "output_type": "stream",
     "text": [
      "50000\n",
      "ds\n"
     ]
    },
    {
     "ename": "AttributeError",
     "evalue": "'Employee' object has no attribute 'salary'",
     "output_type": "error",
     "traceback": [
      "\u001b[31m---------------------------------------------------------------------------\u001b[39m",
      "\u001b[31mAttributeError\u001b[39m                            Traceback (most recent call last)",
      "\u001b[36mCell\u001b[39m\u001b[36m \u001b[39m\u001b[32mIn[33]\u001b[39m\u001b[32m, line 33\u001b[39m\n\u001b[32m     29\u001b[39m s2 = Employee(\u001b[33m\"\u001b[39m\u001b[33mHassan\u001b[39m\u001b[33m\"\u001b[39m, \u001b[33m\"\u001b[39m\u001b[33mcs\u001b[39m\u001b[33m\"\u001b[39m, \u001b[32m30000\u001b[39m)\n\u001b[32m     32\u001b[39m s1.get_salary()\n\u001b[32m---> \u001b[39m\u001b[32m33\u001b[39m \u001b[43ms1\u001b[49m\u001b[43m.\u001b[49m\u001b[43mshow_salary\u001b[49m\u001b[43m(\u001b[49m\u001b[43m)\u001b[49m\n\u001b[32m     34\u001b[39m s1.print_info()\n\u001b[32m     36\u001b[39m s2.get_salary2()\n",
      "\u001b[36mCell\u001b[39m\u001b[36m \u001b[39m\u001b[32mIn[33]\u001b[39m\u001b[32m, line 18\u001b[39m, in \u001b[36mEmployee.show_salary\u001b[39m\u001b[34m(self)\u001b[39m\n\u001b[32m     17\u001b[39m \u001b[38;5;28;01mdef\u001b[39;00m\u001b[38;5;250m \u001b[39m\u001b[34mshow_salary\u001b[39m(\u001b[38;5;28mself\u001b[39m):\n\u001b[32m---> \u001b[39m\u001b[32m18\u001b[39m      \u001b[38;5;28mprint\u001b[39m(\u001b[33m\"\u001b[39m\u001b[33mSalary:\u001b[39m\u001b[33m\"\u001b[39m, \u001b[38;5;28;43mself\u001b[39;49m\u001b[43m.\u001b[49m\u001b[43msalary\u001b[49m)\n",
      "\u001b[31mAttributeError\u001b[39m: 'Employee' object has no attribute 'salary'"
     ]
    }
   ],
   "source": [
    "# Question no 3\n",
    "\n",
    "class Employee:\n",
    "    def __init__(self, name, department, salary):  # constructor\n",
    "        self.name = name\n",
    "        self._department = department\n",
    "        self.__salary = salary\n",
    "        \n",
    "    def get_salary(self):\n",
    "        print(s1._Employee__salary)\n",
    "        print(s1._department)\n",
    "        \n",
    "    def get_salary2(self):\n",
    "        print(s2._Employee__salary)\n",
    "        print(s2._department)\n",
    "\n",
    "    def show_salary(self):\n",
    "         print(\"Salary:\", self.salary) \n",
    "        \n",
    "    def show_salary2(self):\n",
    "         print(\"Salary:\", self.salary) \n",
    "    def print_info(self):\n",
    "        print(\"Name:\", self.name)\n",
    "      #  print(\"Department:\", self.department)\n",
    "      #  print(\"Salary:\", self.salary)  \n",
    "\n",
    "# Creating objects\n",
    "s1 = Employee(\"Palwasha\",\"ds\", 50000)\n",
    "s2 = Employee(\"Hassan\", \"cs\", 30000)\n",
    "\n",
    "\n",
    "s1.get_salary()\n",
    "s1.show_salary()\n",
    "s1.print_info()\n",
    "\n",
    "s2.get_salary2()\n",
    "s2.show_salary()\n",
    "s2.print_info()"
   ]
  },
  {
   "cell_type": "code",
   "execution_count": 37,
   "id": "36cfde56-ec89-49e9-a031-ff8abc321434",
   "metadata": {},
   "outputs": [
    {
     "name": "stdout",
     "output_type": "stream",
     "text": [
      "Area of Rectangle: 15\n",
      "Area of Circle: 50.24\n",
      "Total Area of All Shapes: 65.24000000000001\n"
     ]
    }
   ],
   "source": [
    "# Question no 4\n",
    "class Shape:\n",
    "    def area(self):\n",
    "        return 0\n",
    "\n",
    "class Rectangle(Shape):\n",
    "    def __init__(self, length, width):\n",
    "        self.length = length\n",
    "        self.width = width\n",
    "\n",
    "    def area(self):\n",
    "        return self.length * self.width\n",
    "\n",
    "class Circle(Shape):\n",
    "    def __init__(self, radius):\n",
    "        self.radius = radius\n",
    "\n",
    "    def area(self):\n",
    "        return 3.14 * (self.radius ** 2)\n",
    "\n",
    "def calculate_total_area(shapes):\n",
    "    total = 0\n",
    "    for shape in shapes:\n",
    "        total += shape.area()\n",
    "    return total\n",
    "\n",
    "\n",
    "r1 = Rectangle(5, 3)\n",
    "c1 = Circle(4)\n",
    "\n",
    "print(\"Area of Rectangle:\", r1.area())\n",
    "print(\"Area of Circle:\", c1.area())\n",
    "\n",
    "shapes = [r1, c1]\n",
    "print(\"Total Area of All Shapes:\", calculate_total_area(shapes))\n"
   ]
  },
  {
   "cell_type": "code",
   "execution_count": 38,
   "id": "45e3786c-a52f-424f-a12a-62f8bf02c247",
   "metadata": {},
   "outputs": [
    {
     "name": "stdout",
     "output_type": "stream",
     "text": [
      "Collecting ipynb\n",
      "  Downloading ipynb-0.5.1-py3-none-any.whl.metadata (303 bytes)\n",
      "Downloading ipynb-0.5.1-py3-none-any.whl (6.9 kB)\n",
      "Installing collected packages: ipynb\n",
      "Successfully installed ipynb-0.5.1\n"
     ]
    }
   ],
   "source": [
    "!pip install ipynb\n"
   ]
  },
  {
   "cell_type": "code",
   "execution_count": 43,
   "id": "3d8183cd-8f9f-4201-8870-f0f7084a847b",
   "metadata": {},
   "outputs": [
    {
     "name": "stdout",
     "output_type": "stream",
     "text": [
      "Name: Ali | Roll No: 101 | Marks: 90 | Grade: A\n",
      "Name: Ayesha | Roll No: 102 | Marks: 72 | Grade: B\n",
      "Name: Hassan | Roll No: 103 | Marks: 45 | Grade: F\n"
     ]
    }
   ],
   "source": [
    "from student_ops import Student\n",
    "\n",
    "# Create multiple students\n",
    "s1 = Student(\"Ali\", 101, 90)\n",
    "s2 = Student(\"Ayesha\", 102, 72)\n",
    "s3 = Student(\"Hassan\", 103, 45)\n",
    "\n",
    "students = [s1, s2, s3]\n",
    "\n",
    "# Display their grades\n",
    "for s in students:\n",
    "    print(\"Name:\", s.name, \"| Roll No:\", s.roll_no, \"| Marks:\", s.marks, \"| Grade:\", s.calculate_grade())\n"
   ]
  }
 ],
 "metadata": {
  "kernelspec": {
   "display_name": "Python 3 (ipykernel)",
   "language": "python",
   "name": "python3"
  },
  "language_info": {
   "codemirror_mode": {
    "name": "ipython",
    "version": 3
   },
   "file_extension": ".py",
   "mimetype": "text/x-python",
   "name": "python",
   "nbconvert_exporter": "python",
   "pygments_lexer": "ipython3",
   "version": "3.12.3"
  }
 },
 "nbformat": 4,
 "nbformat_minor": 5
}
