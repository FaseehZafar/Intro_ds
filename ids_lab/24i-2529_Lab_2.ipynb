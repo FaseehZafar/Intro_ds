{
 "cells": [
  {
   "cell_type": "code",
   "execution_count": 39,
   "id": "6d3fab21-b272-4763-bd1a-f1a2e0dfe086",
   "metadata": {},
   "outputs": [
    {
     "name": "stdin",
     "output_type": "stream",
     "text": [
      "What is your name? 5\n",
      "What is your Age? 5\n",
      "Enter your Favourite Subject:  5\n"
     ]
    },
    {
     "name": "stdout",
     "output_type": "stream",
     "text": [
      "My name is 5, I am 5 years old, and my favorite subject is 5.\n"
     ]
    }
   ],
   "source": [
    "# Task_1\n",
    "name= input(\"What is your name?\")\n",
    "age= int(input(\"What is your Age?\"))\n",
    "subject= input(\"Enter your Favourite Subject: \")\n",
    "\n",
    "print(f\"My name is {name}, I am {age} years old, and my favorite subject is {subject}.\")"
   ]
  },
  {
   "cell_type": "markdown",
   "id": "b8145a0d-2631-4565-b946-717de419ab12",
   "metadata": {},
   "source": [
    "# Task_2\n",
    "a = 5\n",
    "b = 2.5 \n",
    "c = \"Python\"\n",
    "\n",
    "print(a+b)\n",
    "print(\"Hello\"+c)\n",
    "print(a*c)"
   ]
  },
  {
   "cell_type": "markdown",
   "id": "63ef0e1e-d3f5-4a13-9ef4-40e4e58d22f2",
   "metadata": {},
   "source": [
    "# Task_3\n",
    "x = 4 \n",
    "y = 2.5 \n",
    "z = 21.95\n",
    "\n",
    "#the double division gives the floor value as it rounds off the division result from points into int.\n",
    "print(x//y)\n",
    "print(isinstance((x//y), int))\n",
    "\n",
    "print(int(x/y))\n",
    "print(isinstance(int(x/y), int))\n",
    "\n",
    "print(x/y)\n",
    "print(isinstance((x/y), float))\n",
    "\n",
    "print(z+x)\n",
    "print(isinstance((z+x), int))\n",
    "\n",
    "print(z*y)\n",
    "print(isinstance((z*y), float))"
   ]
  },
  {
   "cell_type": "markdown",
   "id": "040fe473-9e97-4e37-a82f-eced11e11186",
   "metadata": {},
   "source": [
    "# Task_4\n",
    "x = int(input(\"Enter the first value: \"))\n",
    "y = int(input(\"Enter the second value: \"))\n",
    "\n",
    "#we have to type cast as the input will be taken in string and our condition will never become true..\n",
    "\n",
    "if isinstance(x,int) and isinstance(y,int):\n",
    "    if x//y == x/y:\n",
    "        print(\"x//y is equal to x/y\")\n",
    "    else:\n",
    "        print(\"Not equal\")\n",
    "\n",
    "    if y*(x//y) == x:\n",
    "        print(\"Divisible\")\n",
    "    else:\n",
    "        print(\"Not divisible\")\n",
    "\n",
    "if isinstance(x,float) or isinstance(y,float):\n",
    "    a = int(x)\n",
    "    b = int(y)\n",
    "    print(a+b)\n",
    "\n",
    "else:\n",
    "    print(\"Invalid input..\")"
   ]
  },
  {
   "cell_type": "markdown",
   "id": "72c6c7b4-410d-4197-9419-bd0b2f234758",
   "metadata": {},
   "source": [
    "# Task_5\n",
    "n = int(input(\"Enter the integer: \"))\n",
    "if n >= 0 and n // 2*2 == n:\n",
    "    print(\"Beautiful\")\n",
    "elif n>=0 and  n // 2*2 != n:\n",
    "    print(\"Not Beautiful\")\n",
    "elif n<0:\n",
    "    print(\"Ugly\")\n",
    "    "
   ]
  },
  {
   "cell_type": "code",
   "execution_count": 40,
   "id": "51fcfe34-5d56-4ab6-8d5e-6203f413a63a",
   "metadata": {
    "jp-MarkdownHeadingCollapsed": true
   },
   "outputs": [
    {
     "name": "stdin",
     "output_type": "stream",
     "text": [
      "Enter the first number:  1\n",
      "Enter the Second number:  2\n",
      "Enter the Third number:  3\n",
      "Enter the fourth number:  4\n"
     ]
    },
    {
     "name": "stdout",
     "output_type": "stream",
     "text": [
      "4\n",
      "1\n",
      "Ascending order!!\n"
     ]
    }
   ],
   "source": [
    "# Task_6\n",
    "a = input(\"Enter the first number: \")\n",
    "b = input(\"Enter the Second number: \")\n",
    "c = input(\"Enter the Third number: \")\n",
    "d = input(\"Enter the fourth number: \")\n",
    "\n",
    "print(max(a,b,c,d))\n",
    "print(min(a,b,c,d))\n",
    "\n",
    "if a == b == c == d:\n",
    "    print(\"all are equal\")\n",
    "elif a > b > c > d:\n",
    "    print(\"Descending order!!\")\n",
    "elif a < b < c < d:\n",
    "    print(\"Ascending order!!\")\n",
    "\n",
    "else :\n",
    "  print(\"not equal\")\n"
   ]
  },
  {
   "cell_type": "markdown",
   "id": "acc46ffa-3c63-4e05-96e6-c38335ab092b",
   "metadata": {},
   "source": [
    "# Task_7\n",
    "import math\n",
    "a = 5+2j\n",
    "b = 8-9j\n",
    "\n",
    "print(a+b)\n",
    "print(a-b)\n",
    "print(a*b)\n",
    "print(a/b)\n",
    "print(\"Real and Imaginary parts of a are: \",a) \n",
    "print(\"Conjugate of the b is:\",b.conjugate())\n",
    "print(\"Magnitude of a is: \",math.sqrt(5**2 + 2**2))\n",
    "\n"
   ]
  },
  {
   "cell_type": "code",
   "execution_count": null,
   "id": "8aa202c0-fd70-4849-8768-842aa10785db",
   "metadata": {},
   "outputs": [],
   "source": []
  }
 ],
 "metadata": {
  "kernelspec": {
   "display_name": "Python 3 (ipykernel)",
   "language": "python",
   "name": "python3"
  },
  "language_info": {
   "codemirror_mode": {
    "name": "ipython",
    "version": 3
   },
   "file_extension": ".py",
   "mimetype": "text/x-python",
   "name": "python",
   "nbconvert_exporter": "python",
   "pygments_lexer": "ipython3",
   "version": "3.12.3"
  }
 },
 "nbformat": 4,
 "nbformat_minor": 5
}
