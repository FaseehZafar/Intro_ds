{
 "cells": [
  {
   "cell_type": "markdown",
   "metadata": {
    "id": "Ssdsu1ypy_kF"
   },
   "source": [
    "# Introduction to Data Science Lab 04"
   ]
  },
  {
   "cell_type": "markdown",
   "metadata": {
    "id": "IRa07dDmzIxz"
   },
   "source": [
    "## Table of Content\n",
    "* Class\n",
    "* Objects\n",
    "* Constructors\n",
    "* Access Modifiers\n",
    "* Inheritance\n",
    "* Encapsulation\n",
    "* Polymorphism\n",
    "* Modules"
   ]
  },
  {
   "cell_type": "markdown",
   "metadata": {
    "id": "WfSNb8S804uy"
   },
   "source": [
    "## Python Class\n",
    "A class is a blueprint for creating objects. It serves as a template that defines the attributes and behaviors of an object.\n",
    "It encapsulates data (attributes) and methods (functions) that operate on that data. Also, promote code reusability and maintainability.\n",
    "### Syntax:\n",
    "class ClassName:\n",
    "\n",
    "          def functionName:\n",
    "## Objects\n",
    "Objects are instances of a class, created using the class name followed by parentheses. Objects encapsulate the attributes and methods defined in the class.\n",
    "\n",
    "### Syntax:\n",
    "object_name = ClassName()\n",
    "\n",
    "my_car = Car(\"Toyota\", \"Camry\", 2022)"
   ]
  },
  {
   "cell_type": "code",
   "execution_count": 8,
   "metadata": {
    "id": "F7Bn-Z7k1H2q"
   },
   "outputs": [],
   "source": [
    "class Person:\n",
    "  def __init__(self, name, age):\n",
    "    self.name = name\n",
    "    self.age = age\n",
    "\n",
    "  def print_name(self):\n",
    "      print(self.name)"
   ]
  },
  {
   "cell_type": "code",
   "execution_count": null,
   "metadata": {
    "colab": {
     "base_uri": "https://localhost:8080/"
    },
    "id": "bYcnDjU01XIp",
    "outputId": "5210cf06-071b-4541-8ef1-0d62b29622d4"
   },
   "outputs": [
    {
     "name": "stdout",
     "output_type": "stream",
     "text": [
      "Palwasha\n",
      "25\n",
      "Palwasha\n"
     ]
    }
   ],
   "source": [
    "p1 = Person(\"Palwasha\", 25)\n",
    "\n",
    "print(p1.name)\n",
    "print(p1.age)\n",
    "p1.print_name()"
   ]
  },
  {
   "cell_type": "markdown",
   "metadata": {
    "id": "3tzuaGIQ5Yfe"
   },
   "source": [
    "##Task 1\n",
    "Create a class called BankAccount which represents a bank account, having as attributes: accountNumber, name, balance. Create a constructor with parameters: accountNumber, name, balance.\n",
    "\n",
    "=>Create a Deposit( ) method which manages the deposit actions.\n",
    "\n",
    "=>Create a withdrawal( ) method which manages the withdrawal actions.\n",
    "\n",
    "=>Create a bankFees( ) method to apply the bank fees with a percentage of 5% of the balance account.\n",
    "\n",
    "=>Create a display( ) method to display account details"
   ]
  },
  {
   "cell_type": "markdown",
   "metadata": {
    "id": "SE47xE4k29LD"
   },
   "source": [
    "##Constructors in Python\n",
    "A constructor is a special method in Python that is automatically called when an object of a class is created.\n",
    "\n",
    "* In Python, the constructor method is defined using __\n",
    "init__().\n",
    "\n",
    "* It is mainly used to initialize object attributes.\n",
    "\n",
    "###Key Points of constructors\n",
    "* Constructor method name is always __\n",
    "init__.\n",
    "\n",
    "* The first parameter of __\n",
    "init__ is always self, which represents the current object.\n",
    "\n",
    "* You can pass additional parameters to initialize values."
   ]
  },
  {
   "cell_type": "markdown",
   "metadata": {
    "id": "Nd60sqNI36FX"
   },
   "source": [
    "###Simple Constructor"
   ]
  },
  {
   "cell_type": "code",
   "execution_count": null,
   "metadata": {
    "colab": {
     "base_uri": "https://localhost:8080/"
    },
    "id": "cVsmgGcq3iG-",
    "outputId": "b2cfe5c7-1278-449f-9c8f-bc545f8b7222"
   },
   "outputs": [
    {
     "name": "stdout",
     "output_type": "stream",
     "text": [
      "Name: Palwasha , Age: 25\n",
      "Name: Hassan , Age: 30\n"
     ]
    }
   ],
   "source": [
    "class Student:\n",
    "    def __init__(self, name, age):  # constructor\n",
    "        self.name = name\n",
    "        self.age = age\n",
    "\n",
    "    def show(self):\n",
    "        print(\"Name:\", self.name, \" Age:\", self.age)\n",
    "\n",
    "# Creating objects\n",
    "s1 = Student(\"Palwasha\", 25)\n",
    "s2 = Student(\"Hassan\", 30)\n",
    "\n",
    "s1.show()\n",
    "s2.show()"
   ]
  },
  {
   "cell_type": "markdown",
   "metadata": {
    "id": "eqqsogss3-Cg"
   },
   "source": [
    "###Default Constructor (no arguments)"
   ]
  },
  {
   "cell_type": "code",
   "execution_count": null,
   "metadata": {
    "colab": {
     "base_uri": "https://localhost:8080/"
    },
    "id": "xqtDu-Jn4D1n",
    "outputId": "28f2bb4d-7e44-4b53-d9eb-d8b10a59ebb4"
   },
   "outputs": [
    {
     "name": "stdout",
     "output_type": "stream",
     "text": [
      "Constructor is called!\n"
     ]
    }
   ],
   "source": [
    "class Demo:\n",
    "    def __init__(self):\n",
    "        print(\"Constructor is called!\")\n",
    "\n",
    "obj = Demo()"
   ]
  },
  {
   "cell_type": "markdown",
   "metadata": {
    "id": "nBOMa0dK4MU-"
   },
   "source": [
    "###Constructor with Default Values"
   ]
  },
  {
   "cell_type": "code",
   "execution_count": null,
   "metadata": {
    "colab": {
     "base_uri": "https://localhost:8080/"
    },
    "id": "o84VqcPi4Pcg",
    "outputId": "11e88d8d-1ae5-4913-fd8b-5c5cb47484af"
   },
   "outputs": [
    {
     "name": "stdout",
     "output_type": "stream",
     "text": [
      "Toyota Corolla\n",
      "Honda Civic\n"
     ]
    }
   ],
   "source": [
    "class Car:\n",
    "    def __init__(self, brand=\"Toyota\", model=\"Corolla\"):\n",
    "        self.brand = brand\n",
    "        self.model = model\n",
    "\n",
    "    def show(self):\n",
    "        print(self.brand, self.model)\n",
    "\n",
    "c1 = Car()                # uses default values\n",
    "c2 = Car(\"Honda\", \"Civic\") # custom values\n",
    "\n",
    "c1.show()\n",
    "c2.show()"
   ]
  },
  {
   "cell_type": "markdown",
   "metadata": {
    "id": "RFLNZios5Mtu"
   },
   "source": [
    "##Task 2\n",
    "Create a class Matrix with a constructor that takes a 2D list (nested list).\n",
    "\n",
    "* Add a method display() that prints the matrix in a readable format.\n",
    "\n",
    "* Add a method add(other) that returns a new Matrix object which is the sum of two matrices.\n",
    "\n",
    "* Add a method multiply(other) that performs matrix multiplication and returns a new Matrix.\n",
    "\n",
    "* Add error handling: if the matrices are not compatible for addition/multiplication, raise a custom exception MatrixDimensionError.\n",
    "\n",
    "Main Program\n",
    "\n",
    "* Create two matrices.\n",
    "\n",
    "* Print them using display().\n",
    "\n",
    "* Perform and print their addition and multiplication.\n",
    "\n",
    "* Trigger the custom exception by trying to add incompatible matrices."
   ]
  },
  {
   "cell_type": "markdown",
   "metadata": {
    "id": "DRnJLHWu5n21"
   },
   "source": [
    "##Access Modifiers in Python\n",
    "Access modifiers are used to control the visibility of class members (variables & methods). They decide whether a variable/method can be accessed outside the class or only inside the class.\n",
    "\n",
    "###Types of Access Modifiers in Python\n",
    "\n",
    "Unlike C++ or Java, Python doesn’t have strict keywords (public, private, protected). Instead, it uses naming conventions:\n",
    "\n",
    "###Public Members (default)\n",
    "\n",
    "* Accessible anywhere (inside and outside the class).\n",
    "\n",
    "* No underscore."
   ]
  },
  {
   "cell_type": "code",
   "execution_count": null,
   "metadata": {
    "colab": {
     "base_uri": "https://localhost:8080/"
    },
    "id": "IS0CbBAo6Bz4",
    "outputId": "0c1a329a-b565-43b4-e4d2-41aaae5f3edc"
   },
   "outputs": [
    {
     "name": "stdout",
     "output_type": "stream",
     "text": [
      "Palwasha\n"
     ]
    }
   ],
   "source": [
    "class Student:\n",
    "    def __init__(self, name):\n",
    "        self.name = name   # public variable\n",
    "\n",
    "s = Student(\"Palwasha\")\n",
    "print(s.name)   # Accessible\n"
   ]
  },
  {
   "cell_type": "markdown",
   "metadata": {
    "id": "AorETP-p6Koe"
   },
   "source": [
    "###Protected Members (_var)\n",
    "\n",
    "* Prefix with one underscore _.\n",
    "\n",
    "* Meant to be used inside the class and subclasses.\n",
    "\n",
    "* Still accessible outside the class (just a convention)."
   ]
  },
  {
   "cell_type": "code",
   "execution_count": null,
   "metadata": {
    "colab": {
     "base_uri": "https://localhost:8080/"
    },
    "id": "wy_19rDh6XwF",
    "outputId": "845f87ad-d6df-4de0-ddd6-3b85afd1cb3d"
   },
   "outputs": [
    {
     "name": "stdout",
     "output_type": "stream",
     "text": [
      "Palwasha\n"
     ]
    }
   ],
   "source": [
    "class Student:\n",
    "    def __init__(self, name):\n",
    "        self._name = name   # protected variable\n",
    "\n",
    "s = Student(\"Palwasha\")\n",
    "print(s._name)   # Accessible, but discouraged"
   ]
  },
  {
   "cell_type": "markdown",
   "metadata": {
    "id": "R9ToB_OU6iG3"
   },
   "source": [
    "###Private Members (__var)\n",
    "\n",
    "* Prefix with two underscores __.\n",
    "\n",
    "* Name mangling is applied (Python internally changes the name).\n",
    "\n",
    "* Cannot be accessed directly outside the class."
   ]
  },
  {
   "cell_type": "code",
   "execution_count": null,
   "metadata": {
    "colab": {
     "base_uri": "https://localhost:8080/"
    },
    "id": "gD5VZLjV6rud",
    "outputId": "7fb58ed8-0824-49a4-991d-843508d95c7f"
   },
   "outputs": [
    {
     "name": "stdout",
     "output_type": "stream",
     "text": [
      "Name: Palwasha\n",
      "Palwasha\n"
     ]
    }
   ],
   "source": [
    "class Student:\n",
    "    def __init__(self, name):\n",
    "        self.__name = name   # private variable\n",
    "\n",
    "    def show(self):\n",
    "        print(\"Name:\", self.__name)\n",
    "\n",
    "s = Student(\"Palwasha\")\n",
    "s.show()           #  Accessible via method\n",
    "# print(s.__name)  #  Error\n",
    "print(s._Student__name)  # Possible (but not recommended)"
   ]
  },
  {
   "cell_type": "markdown",
   "metadata": {
    "id": "aOuZqo_r8j99"
   },
   "source": [
    "##Task 3\n",
    "1. Create a class Employee with the following:\n",
    "\n",
    "    * Public attribute: name\n",
    "\n",
    "    * Protected attribute: _department\n",
    "\n",
    "    * Private attribute: __salary\n",
    "\n",
    "2. In the constructor:\n",
    "\n",
    "      Initialize name, department, and salary.\n",
    "\n",
    "3. Add methods:\n",
    "\n",
    "    * show_info() → displays public and protected attributes.\n",
    "\n",
    "    * __show_salary() → private method that displays salary (only accessible inside the class).\n",
    "\n",
    "    * get_salary() → public method that calls the private method to display salary.\n",
    "\n",
    "4. In the main program:\n",
    "\n",
    "  * Create an object of Employee.\n",
    "\n",
    "  * Try accessing name, _department, and __salary directly.\n",
    "\n",
    "  * Observe what works and what gives an error.\n",
    "\n",
    "  * Use the public method to view salary.\n",
    "\n",
    "###Expected Output\n",
    "\n",
    "  Name: Ali\n",
    "\n",
    "  Department: IT\n",
    "\n",
    "  Salary (via method): 50000\n",
    "\n",
    "  Direct access to name: Ali\n",
    "\n",
    "  Direct access to department: IT\n",
    "\n",
    "  Direct access to salary: Error!"
   ]
  },
  {
   "cell_type": "markdown",
   "metadata": {
    "id": "hcbJrPxc2MoZ"
   },
   "source": [
    "## Inheritance\n",
    "Inheritance is a mechanism where a new class (subclass) can inherit properties and behaviors from an existing class (superclass). This promotes code reusability and allows for the creation of specialized classes."
   ]
  },
  {
   "cell_type": "code",
   "execution_count": 10,
   "metadata": {
    "colab": {
     "base_uri": "https://localhost:8080/",
     "height": 0
    },
    "id": "FWgIFprB2Xs5",
    "outputId": "c9139dc5-df23-44c0-b0f9-1d6642b917d5"
   },
   "outputs": [
    {
     "name": "stdout",
     "output_type": "stream",
     "text": [
      "Dog barks\n"
     ]
    }
   ],
   "source": [
    "class Animal:\n",
    "  def speak(self):\n",
    "      return \"Animal speaks\"\n",
    "class Dog(Animal):\n",
    "  def bark(self):\n",
    "      return \"Dog barks\"\n",
    "dog = Dog()\n",
    "##print(dog.speak())\n",
    "print(dog.bark())"
   ]
  },
  {
   "cell_type": "markdown",
   "metadata": {
    "id": "x3R9E_xI8H3s"
   },
   "source": [
    "## Encapsulation\n",
    "Encapsulation refers to the bundling of data (attributes) and methods that operate on the data within a single unit (class). It hides the internal state of an object from the outside world and allows controlled access to it through methods.\n",
    "### Syntax\n",
    "class ClassName:\n",
    "\n",
    "          def init (self, parameters):\n",
    "            self. attribute_name = value # Private attribute\n",
    "          def get_attribute_name(self):\n",
    "            return self. attribute_name"
   ]
  },
  {
   "cell_type": "code",
   "execution_count": null,
   "metadata": {
    "colab": {
     "base_uri": "https://localhost:8080/"
    },
    "id": "gck0LZRb8RHt",
    "outputId": "4eb38c4e-3148-43ff-d678-f45ecd8a66b0"
   },
   "outputs": [
    {
     "name": "stdout",
     "output_type": "stream",
     "text": [
      "Toyota\n",
      "Corolla\n"
     ]
    }
   ],
   "source": [
    "# Example:\n",
    "class Car:\n",
    "  def __init__(self, make, model):\n",
    "    self. make = make\n",
    "    self. model = model\n",
    "  def get_make(self):\n",
    "    return self. make\n",
    "  def get_model(self):\n",
    "    return self. model\n",
    "car = Car(\"Toyota\", \"Corolla\")\n",
    "print(car.get_make())\n",
    "print(car.get_model())"
   ]
  },
  {
   "cell_type": "markdown",
   "metadata": {
    "id": "ezGtQVjE7Jld"
   },
   "source": [
    "## Polymorphism\n",
    "Polymorphism allows objects of different classes to be treated as objects of a common super class. It enables flexibility by allowing methods to behave differently based on the object they operate on.\n",
    "\n",
    "### Syntax:\n",
    "class SuperClassName:\n",
    "\n",
    "      def method_name(self):\n",
    "      Method definition\n",
    "      pass\n",
    "\n",
    "      class SubClassName1(SuperClassName):\n",
    "        def method_name(self):\n",
    "        Overridden method definition\n",
    "        pass\n",
    "      class SubClassName2(SuperClassName):\n",
    "        def method_name(self):\n",
    "        Overridden method definition\n",
    "        Pass"
   ]
  },
  {
   "cell_type": "code",
   "execution_count": 11,
   "metadata": {
    "colab": {
     "base_uri": "https://localhost:8080/",
     "height": 0
    },
    "id": "nRqjGmL77WDm",
    "outputId": "77b6a876-13b1-4764-c820-c706b6283bc7"
   },
   "outputs": [
    {
     "name": "stdout",
     "output_type": "stream",
     "text": [
      "Dog barks\n",
      "Cat meows\n"
     ]
    }
   ],
   "source": [
    "class Animal:\n",
    "  def speak(self):\n",
    "    return \"Animal speaks\"\n",
    "class Dog(Animal):\n",
    "  def speak(self):\n",
    "    return \"Dog barks\"\n",
    "class Cat(Animal):\n",
    "  def speak(self):\n",
    "    return \"Cat meows\"\n",
    "\n",
    "def make_sound(animal):\n",
    "    print(animal.speak())\n",
    "dog = Dog()\n",
    "cat = Cat()\n",
    "\n",
    "make_sound(dog) # Output: Dog barks\n",
    "make_sound(cat) # Output: Cat meows"
   ]
  },
  {
   "cell_type": "markdown",
   "metadata": {
    "id": "c-mKqbEa7a1n"
   },
   "source": [
    "##Task 4\n",
    "Create a base class Shape with an abstract method area(). Then, create two subclasses Rectangle and Circle that inherit from Shape. Implement the area() in both subclasses to calculate the area of a rectangle and a circle, respectively. Finally, create a function calculate_total_area() that takes a list of shapes and calculates the total area of all shapes.\n",
    "allshapes."
   ]
  },
  {
   "cell_type": "markdown",
   "metadata": {
    "id": "jyRQIHfoPKk4"
   },
   "source": [
    "## Modules\n",
    "\n",
    "\n",
    "* A module is a single Python file (.py) that contains code such as functions, classes, or variables.\n",
    "* To keep code organized, avoid repetition, and make programs easier to maintain and reuse.\n"
   ]
  },
  {
   "cell_type": "code",
   "execution_count": 1,
   "metadata": {
    "colab": {
     "base_uri": "https://localhost:8080/",
     "height": 0
    },
    "id": "hH1JRhPuPQiH",
    "outputId": "38591317-be61-4fa3-be6d-7156cf4ab743"
   },
   "outputs": [
    {
     "name": "stdout",
     "output_type": "stream",
     "text": [
      "Collecting ipynb\n",
      "  Downloading ipynb-0.5.1-py3-none-any.whl.metadata (303 bytes)\n",
      "Downloading ipynb-0.5.1-py3-none-any.whl (6.9 kB)\n",
      "Installing collected packages: ipynb\n",
      "Successfully installed ipynb-0.5.1\n"
     ]
    }
   ],
   "source": [
    "!pip install ipynb"
   ]
  },
  {
   "cell_type": "markdown",
   "metadata": {
    "id": "Fhr7JbbMQ-fv"
   },
   "source": [
    "This is basically in colab"
   ]
  },
  {
   "cell_type": "code",
   "execution_count": 6,
   "metadata": {
    "colab": {
     "base_uri": "https://localhost:8080/",
     "height": 0
    },
    "id": "RzagayZkQj9C",
    "outputId": "03ad0ad8-c7fb-49a8-a693-7be9f2f2dfae"
   },
   "outputs": [
    {
     "name": "stdout",
     "output_type": "stream",
     "text": [
      "Writing modules.py\n"
     ]
    }
   ],
   "source": [
    "%%writefile modules.py\n",
    "def add(a, b):\n",
    "    return a + b"
   ]
  },
  {
   "cell_type": "code",
   "execution_count": 7,
   "metadata": {
    "colab": {
     "base_uri": "https://localhost:8080/",
     "height": 0
    },
    "id": "lCBYYAK3QKhh",
    "outputId": "6375d1b9-8bd9-4fdd-dc29-3f757f31978c"
   },
   "outputs": [
    {
     "name": "stdout",
     "output_type": "stream",
     "text": [
      "7\n"
     ]
    }
   ],
   "source": [
    "import modules\n",
    "print(modules.add(3, 4))  # Output: 7"
   ]
  },
  {
   "cell_type": "markdown",
   "metadata": {
    "id": "NmjG4hdPRI_W"
   },
   "source": [
    "This is working in Jupyter Notebook"
   ]
  },
  {
   "cell_type": "code",
   "execution_count": null,
   "metadata": {
    "id": "YeaKOCThRDlv"
   },
   "outputs": [],
   "source": [
    "import ipynb.fs.full.modules as modules\n",
    "print(modules.add(3, 4))  # Output: 7"
   ]
  },
  {
   "cell_type": "markdown",
   "metadata": {
    "id": "8JEjcThhRv03"
   },
   "source": [
    "##Task 5\n",
    "Create a module student_ops.ipynb that contains a Student class:\n",
    "\n",
    "* Constructor sets name, roll_no, and marks.\n",
    "\n",
    "* Method calculate_grade() returns a grade (A, B, C, etc.) based on marks.\n",
    "\n",
    "In another file(main program), import Student, create multiple students, and display their grades."
   ]
  },
  {
   "cell_type": "markdown",
   "metadata": {
    "id": "toWipmKQ7ohe"
   },
   "source": [
    "# Happy Coding :)"
   ]
  }
 ],
 "metadata": {
  "colab": {
   "provenance": []
  },
  "kernelspec": {
   "display_name": "Python 3 (ipykernel)",
   "language": "python",
   "name": "python3"
  },
  "language_info": {
   "codemirror_mode": {
    "name": "ipython",
    "version": 3
   },
   "file_extension": ".py",
   "mimetype": "text/x-python",
   "name": "python",
   "nbconvert_exporter": "python",
   "pygments_lexer": "ipython3",
   "version": "3.12.3"
  }
 },
 "nbformat": 4,
 "nbformat_minor": 4
}
