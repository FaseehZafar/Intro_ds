{
 "cells": [
  {
   "cell_type": "markdown",
   "metadata": {
    "id": "E7I8_reTIb1C"
   },
   "source": [
    "# Introduction to Data Science - Lab 06 (Numpy)"
   ]
  },
  {
   "cell_type": "markdown",
   "metadata": {
    "id": "72RYtjnPSGpC"
   },
   "source": [
    "### Table of Content\n",
    "\n",
    "\n",
    "*  Installation and Importing the numpy\n",
    "*  Numpy Arrays\n",
    "* Array Attributes\n",
    "* Indexing and Slicing\n",
    "* Data Types\n",
    "* Math Functions\n",
    "* Linear Algebra\n",
    "* Statistics & Probability\n",
    "* Structured Arrays\n",
    "* Special Functions\n",
    "* Missing Values  \n",
    "* Lab Tasks\n",
    "\n",
    "\n"
   ]
  },
  {
   "cell_type": "markdown",
   "metadata": {
    "id": "8WUWR3vCIxrg"
   },
   "source": [
    "#Numpy\n",
    "Numpy is the core library for scientific computing in Python. It\n",
    "provides a high-performance multidimensional array object, and tools for\n",
    "working with these arrays. Supports mathematical, logical, and statistical operations.\n",
    "\n",
    "To use Numpy, we first need to import the `numpy` package. By\n",
    "convention, we import it using the alias `np`. Then, when we want to use\n",
    "modules or functions in this library, we preface them with `np.`"
   ]
  },
  {
   "cell_type": "markdown",
   "metadata": {
    "id": "4DMG99nVJb2J"
   },
   "source": [
    "**Installation**"
   ]
  },
  {
   "cell_type": "code",
   "execution_count": null,
   "metadata": {
    "colab": {
     "base_uri": "https://localhost:8080/"
    },
    "id": "_SXgfx5-IOWc",
    "outputId": "6df54255-0bb3-40d3-ea8b-c3ee5f1bfeab"
   },
   "outputs": [
    {
     "name": "stdout",
     "output_type": "stream",
     "text": [
      "Requirement already satisfied: numpy in /usr/local/lib/python3.12/dist-packages (2.0.2)\n"
     ]
    }
   ],
   "source": [
    "pip install numpy"
   ]
  },
  {
   "cell_type": "markdown",
   "metadata": {
    "id": "SftGU6JUJfMX"
   },
   "source": [
    "**Importing**"
   ]
  },
  {
   "cell_type": "code",
   "execution_count": null,
   "metadata": {
    "id": "7zYr0zdXJA2B"
   },
   "outputs": [],
   "source": [
    "import numpy as np"
   ]
  },
  {
   "cell_type": "markdown",
   "metadata": {
    "id": "M_ZB88arJoiH"
   },
   "source": [
    "## Numpy Arrays\n",
    "\n",
    "A numpy array is a grid of values, all of the same type, and is indexed\n",
    "by a tuple of nonnegative integers. The number of dimensions is the rank\n",
    "of the array; the shape of an array is a tuple of integers giving the\n",
    "size of the array along each dimension.\n",
    "We can create a `numpy` array by passing a Python list to `np.array()`."
   ]
  },
  {
   "cell_type": "code",
   "execution_count": null,
   "metadata": {
    "colab": {
     "base_uri": "https://localhost:8080/"
    },
    "id": "OTI_6mDPJxs-",
    "outputId": "66526cc1-6bb4-4610-a954-e24c5ac18b67"
   },
   "outputs": [
    {
     "data": {
      "text/plain": [
       "array([1, 2, 3])"
      ]
     },
     "execution_count": 4,
     "metadata": {},
     "output_type": "execute_result"
    }
   ],
   "source": [
    "a = np.array([1, 2, 3])  # Create a rank 1 array\n",
    "a"
   ]
  },
  {
   "cell_type": "markdown",
   "metadata": {
    "id": "7UyM7ZFDJ7hJ"
   },
   "source": [
    "This creates the array we can see on the right here:\n",
    "\n",
    "![](http://jalammar.github.io/images/numpy/create-numpy-array-1.png)"
   ]
  },
  {
   "cell_type": "code",
   "execution_count": null,
   "metadata": {
    "colab": {
     "base_uri": "https://localhost:8080/"
    },
    "id": "AfLOLoYvKDHX",
    "outputId": "decb0114-10c5-46eb-9ed6-fc718e200a5b"
   },
   "outputs": [
    {
     "name": "stdout",
     "output_type": "stream",
     "text": [
      "<class 'numpy.ndarray'> (3,) 1 2 3\n",
      "[5 2 3]\n"
     ]
    }
   ],
   "source": [
    "print(type(a), a.shape, a[0], a[1], a[2])\n",
    "a[0] = 5                 # Change an element of the array\n",
    "print(a)"
   ]
  },
  {
   "cell_type": "markdown",
   "metadata": {
    "id": "x1sss-8EJ8-Y"
   },
   "source": [
    "To create a `numpy` array with more dimensions, we can pass nested\n",
    "lists, like this:\n",
    "\n",
    "![](http://jalammar.github.io/images/numpy/numpy-array-create-2d.png)\n",
    "\n",
    "![](http://jalammar.github.io/images/numpy/numpy-3d-array.png)"
   ]
  },
  {
   "cell_type": "code",
   "execution_count": null,
   "metadata": {
    "colab": {
     "base_uri": "https://localhost:8080/"
    },
    "id": "2dOR91b4KRC_",
    "outputId": "23a9966f-edea-4b5b-96b7-961e4dea166c"
   },
   "outputs": [
    {
     "name": "stdout",
     "output_type": "stream",
     "text": [
      "[[1 2]\n",
      " [3 4]]\n"
     ]
    }
   ],
   "source": [
    "b = np.array([[1,2],[3,4]])   # Create a rank 2 array\n",
    "print(b)"
   ]
  },
  {
   "cell_type": "code",
   "execution_count": null,
   "metadata": {
    "colab": {
     "base_uri": "https://localhost:8080/"
    },
    "id": "CkTbO-OsKe6H",
    "outputId": "26a6d57c-22aa-4200-cc41-b03bbd8a0894"
   },
   "outputs": [
    {
     "name": "stdout",
     "output_type": "stream",
     "text": [
      "(2, 2)\n"
     ]
    }
   ],
   "source": [
    "print(b.shape)"
   ]
  },
  {
   "cell_type": "markdown",
   "metadata": {
    "id": "kekLEOQqKk4f"
   },
   "source": [
    "There are often cases when we want numpy to initialize the values of the\n",
    "array for us. numpy provides methods like `ones()`, `zeros()`, and\n",
    "`random.random()` for these cases. We just pass them the number of\n",
    "elements we want it to generate:\n",
    "\n",
    "![](http://jalammar.github.io/images/numpy/create-numpy-array-ones-zeros-random.png)"
   ]
  },
  {
   "cell_type": "markdown",
   "metadata": {
    "id": "TbONed68KofH"
   },
   "source": [
    "We can also use these methods to produce multi-dimensional arrays, as\n",
    "long as we pass them a tuple describing the dimensions of the matrix we\n",
    "want to create:\n",
    "\n",
    "![](http://jalammar.github.io/images/numpy/numpy-matrix-ones-zeros-random.png)\n",
    "\n",
    "![](http://jalammar.github.io/images/numpy/numpy-3d-array-creation.png)"
   ]
  },
  {
   "cell_type": "markdown",
   "metadata": {
    "id": "Zy58AeD1K6-_"
   },
   "source": [
    "Sometimes, we need an array of a specific shape with “placeholder”\n",
    "values that we plan to fill in with the result of a computation. The\n",
    "`zeros` or `ones` functions are handy for this:"
   ]
  },
  {
   "cell_type": "code",
   "execution_count": null,
   "metadata": {
    "colab": {
     "base_uri": "https://localhost:8080/"
    },
    "id": "nmJcfN70LL5-",
    "outputId": "162631c8-37d1-4a95-b4cc-f71779c29c19"
   },
   "outputs": [
    {
     "name": "stdout",
     "output_type": "stream",
     "text": [
      "[[0. 0.]\n",
      " [0. 0.]]\n"
     ]
    }
   ],
   "source": [
    "a = np.zeros((2,2))  # Create an array of all zeros\n",
    "print(a)"
   ]
  },
  {
   "cell_type": "code",
   "execution_count": null,
   "metadata": {
    "colab": {
     "base_uri": "https://localhost:8080/"
    },
    "id": "4Y9yayxJLTGn",
    "outputId": "f1ab508d-8c0e-4d9e-f1dc-eeb93c42cc1a"
   },
   "outputs": [
    {
     "name": "stdout",
     "output_type": "stream",
     "text": [
      "[[[1. 1. 1.]\n",
      "  [1. 1. 1.]]]\n"
     ]
    }
   ],
   "source": [
    "b = np.ones((1,2,3))   # Create an array of all ones\n",
    "print(b)"
   ]
  },
  {
   "cell_type": "code",
   "execution_count": null,
   "metadata": {
    "colab": {
     "base_uri": "https://localhost:8080/"
    },
    "id": "DGo3AAESLVil",
    "outputId": "8822f602-d10d-47d5-cf37-4ce621a656d2"
   },
   "outputs": [
    {
     "name": "stdout",
     "output_type": "stream",
     "text": [
      "[[[7 7 7 7]\n",
      "  [7 7 7 7]]\n",
      "\n",
      " [[7 7 7 7]\n",
      "  [7 7 7 7]]]\n"
     ]
    }
   ],
   "source": [
    "c = np.full((2,2,4), 7) # Create a constant array\n",
    "print(c)"
   ]
  },
  {
   "cell_type": "code",
   "execution_count": null,
   "metadata": {
    "colab": {
     "base_uri": "https://localhost:8080/"
    },
    "id": "bOlrc3ezLcCU",
    "outputId": "0803bf64-0b7d-41c0-a809-29c3a77ac392"
   },
   "outputs": [
    {
     "name": "stdout",
     "output_type": "stream",
     "text": [
      "[[1. 0. 0.]\n",
      " [0. 1. 0.]\n",
      " [0. 0. 1.]]\n"
     ]
    }
   ],
   "source": [
    "d = np.eye(3)        # Create a 2x2 identity matrix\n",
    "print(d)"
   ]
  },
  {
   "cell_type": "code",
   "execution_count": null,
   "metadata": {
    "colab": {
     "base_uri": "https://localhost:8080/"
    },
    "id": "qiQ8xrOoLe_W",
    "outputId": "9b5ea23e-928e-450e-ee32-8bc5e4396a51"
   },
   "outputs": [
    {
     "name": "stdout",
     "output_type": "stream",
     "text": [
      "[[0.42976554 0.86200914]\n",
      " [0.1015457  0.6176782 ]]\n"
     ]
    }
   ],
   "source": [
    "e = np.random.random((2,2)) # Create an array filled with random values\n",
    "print(e)"
   ]
  },
  {
   "cell_type": "markdown",
   "metadata": {
    "id": "YEnHs8XVLkdl"
   },
   "source": [
    "Numpy also has two useful functions for creating sequences of numbers:\n",
    "`arange` and `linspace`.\n",
    "\n",
    "The `arange` function accepts three arguments, which define the start\n",
    "value, stop value of a half-open interval, and step size. (The default\n",
    "step size, if not explicitly specified, is 1; the default start value,\n",
    "if not explicitly specified, is 0.)\n",
    "\n",
    "The `linspace` function is similar, but we can specify the number of\n",
    "values instead of the step size, and it will create a sequence of evenly\n",
    "spaced values."
   ]
  },
  {
   "cell_type": "code",
   "execution_count": null,
   "metadata": {
    "colab": {
     "base_uri": "https://localhost:8080/"
    },
    "id": "U5EhqcRMLkNo",
    "outputId": "9eb61c35-3131-41b7-ad62-f3a6937d9574"
   },
   "outputs": [
    {
     "name": "stdout",
     "output_type": "stream",
     "text": [
      "[10 15 20 25 30 35 40 45]\n"
     ]
    }
   ],
   "source": [
    "f = np.arange(10,50,5)   # Create an array of values starting at 10 in increments of 5\n",
    "print(f)"
   ]
  },
  {
   "cell_type": "markdown",
   "metadata": {
    "id": "Fk6mEG8JL6l1"
   },
   "source": [
    "Note this ends on 45, not 50 (does not include the top end of the\n",
    "interval)."
   ]
  },
  {
   "cell_type": "code",
   "execution_count": null,
   "metadata": {
    "colab": {
     "base_uri": "https://localhost:8080/"
    },
    "id": "139qgiMIL8Yd",
    "outputId": "022030de-38e9-46d9-ee97-bc98bc5e7d20"
   },
   "outputs": [
    {
     "name": "stdout",
     "output_type": "stream",
     "text": [
      "[0.   0.25 0.5  0.75 1.  ]\n"
     ]
    }
   ],
   "source": [
    "g = np.linspace(0., 1., num=5)\n",
    "print(g)"
   ]
  },
  {
   "cell_type": "markdown",
   "metadata": {
    "id": "B97dc5OxMHuP"
   },
   "source": [
    "Sometimes, we may want to construct an array from existing arrays by “stacking” the existing arrays, either vertically or horizontally. We can use vstack() (or row_stack) and hstack() (or column_stack), respectively."
   ]
  },
  {
   "cell_type": "code",
   "execution_count": null,
   "metadata": {
    "colab": {
     "base_uri": "https://localhost:8080/"
    },
    "id": "vQru8UBHMHeu",
    "outputId": "904ab771-31cf-41c5-c4fe-1f90050e6980"
   },
   "outputs": [
    {
     "data": {
      "text/plain": [
       "array([[1, 2, 3],\n",
       "       [4, 5, 6]])"
      ]
     },
     "execution_count": 15,
     "metadata": {},
     "output_type": "execute_result"
    }
   ],
   "source": [
    "a = np.array([1, 2, 3])\n",
    "b = np.array([4, 5, 6])\n",
    "np.vstack((a,b))"
   ]
  },
  {
   "cell_type": "code",
   "execution_count": null,
   "metadata": {
    "colab": {
     "base_uri": "https://localhost:8080/"
    },
    "id": "bJkd7xHTMShk",
    "outputId": "aa1f9396-a626-4106-9424-d6e0db8d6620"
   },
   "outputs": [
    {
     "data": {
      "text/plain": [
       "array([1, 2, 3, 4, 5, 6])"
      ]
     },
     "execution_count": 16,
     "metadata": {},
     "output_type": "execute_result"
    }
   ],
   "source": [
    "a = np.array([1, 2, 3])\n",
    "b = np.array([4, 5, 6])\n",
    "np.hstack((a,b))"
   ]
  },
  {
   "cell_type": "markdown",
   "metadata": {
    "id": "Rm7-pKaXS656"
   },
   "source": [
    "## Array Attributes"
   ]
  },
  {
   "cell_type": "code",
   "execution_count": null,
   "metadata": {
    "colab": {
     "base_uri": "https://localhost:8080/"
    },
    "id": "5_nrE1XNS-5o",
    "outputId": "f0a8287d-b20a-4b35-c237-61be42647d69"
   },
   "outputs": [
    {
     "data": {
      "text/plain": [
       "8"
      ]
     },
     "execution_count": 35,
     "metadata": {},
     "output_type": "execute_result"
    }
   ],
   "source": [
    "# Array attributes give details about arrays\n",
    "\n",
    "arr = np.arange(10)\n",
    "arr.shape      # Shape of array\n",
    "arr.ndim       # Number of dimensions\n",
    "arr.dtype      # Data type of elements\n",
    "arr.size       # Total number of elements\n",
    "arr.itemsize   # Memory size of each element in bytes"
   ]
  },
  {
   "cell_type": "markdown",
   "metadata": {
    "id": "iYZ4HCO7Mdye"
   },
   "source": [
    "## Indexing and Slicing"
   ]
  },
  {
   "cell_type": "markdown",
   "metadata": {
    "id": "dXYI66doMfWl"
   },
   "source": [
    "We can index and slice numpy arrays in all the ways we can slice Python\n",
    "lists:\n",
    "\n",
    "![](http://jalammar.github.io/images/numpy/numpy-array-slice.png)\n",
    "\n",
    "And you can index and slice numpy arrays in multiple dimensions. If\n",
    "slicing an array with more than one dimension, you should specify a\n",
    "slice for each dimension:\n",
    "\n",
    "![](http://jalammar.github.io/images/numpy/numpy-matrix-indexing.png)"
   ]
  },
  {
   "cell_type": "markdown",
   "metadata": {
    "id": "XFJKSIpHMtva"
   },
   "source": [
    "Slicing return values by reference"
   ]
  },
  {
   "cell_type": "code",
   "execution_count": null,
   "metadata": {
    "colab": {
     "base_uri": "https://localhost:8080/"
    },
    "id": "lPIt1BOzMu52",
    "outputId": "639408d6-4152-43ad-8559-1712d3796122"
   },
   "outputs": [
    {
     "name": "stdout",
     "output_type": "stream",
     "text": [
      "[[2 3]\n",
      " [6 7]]\n"
     ]
    }
   ],
   "source": [
    "# Create the following rank 2 array with shape (3, 4)\n",
    "# [[ 1  2  3  4]\n",
    "#  [ 5  6  7  8]\n",
    "#  [ 9 10 11 12]]\n",
    "a = np.array([[1,2,3,4], [5,6,7,8], [9,10,11,12]])\n",
    "\n",
    "# Use slicing to pull out the subarray consisting of the first 2 rows\n",
    "# and columns 1 and 2; b is the following array of shape (2, 2):\n",
    "# [[2 3]\n",
    "#  [6 7]]\n",
    "b = a[:2, 1:3]\n",
    "print(b)"
   ]
  },
  {
   "cell_type": "markdown",
   "metadata": {
    "id": "uRtiglDxM4B2"
   },
   "source": [
    "updating value of b will update value of a"
   ]
  },
  {
   "cell_type": "code",
   "execution_count": null,
   "metadata": {
    "colab": {
     "base_uri": "https://localhost:8080/"
    },
    "id": "9zcJFPPEM5pV",
    "outputId": "848fdefa-b548-4e8a-acdb-32d5584c73a8"
   },
   "outputs": [
    {
     "name": "stdout",
     "output_type": "stream",
     "text": [
      "2\n",
      "77\n"
     ]
    }
   ],
   "source": [
    "print(a[0, 1])\n",
    "b[0, 0] = 77    # b[0, 0] is the same piece of data as a[0, 1]\n",
    "print(a[0, 1])"
   ]
  },
  {
   "cell_type": "code",
   "execution_count": null,
   "metadata": {
    "colab": {
     "base_uri": "https://localhost:8080/"
    },
    "id": "DZ8t34AwNHAV",
    "outputId": "eaf70cbd-ce69-4985-eb77-bdfbcc5da861"
   },
   "outputs": [
    {
     "name": "stdout",
     "output_type": "stream",
     "text": [
      "[5 6 7 8] (4,)\n",
      "[[ 5  6  7  8]\n",
      " [ 9 10 11 12]] (2, 4)\n"
     ]
    }
   ],
   "source": [
    "row_r1 = a[1, :]    # Rank 1 view of the second row of a\n",
    "row_r2 = a[1:3, :]  # Rank 2 view of the second row of a\n",
    "print(row_r1, row_r1.shape)\n",
    "print(row_r2, row_r2.shape)"
   ]
  },
  {
   "cell_type": "markdown",
   "metadata": {
    "id": "qVrpphs9NL61"
   },
   "source": [
    "Boolean array indexing: Boolean array indexing lets you pick out\n",
    "arbitrary elements of an array. Frequently this type of indexing is used\n",
    "to select the elements of an array that satisfy some condition. Here is\n",
    "an example:"
   ]
  },
  {
   "cell_type": "code",
   "execution_count": null,
   "metadata": {
    "colab": {
     "base_uri": "https://localhost:8080/"
    },
    "id": "5KGKCbbJNMoN",
    "outputId": "0bafd3a9-83e5-49c7-af8f-18991cbc05f6"
   },
   "outputs": [
    {
     "name": "stdout",
     "output_type": "stream",
     "text": [
      "[[False False]\n",
      " [ True  True]\n",
      " [ True  True]]\n"
     ]
    }
   ],
   "source": [
    "import numpy as np\n",
    "\n",
    "a = np.array([[1,2], [3, 4], [5, 6]])\n",
    "\n",
    "bool_idx = (a > 2)  # Find the elements of a that are bigger than 2;\n",
    "                    # this returns a numpy array of Booleans of the same\n",
    "                    # shape as a, where each slot of bool_idx tells\n",
    "                    # whether that element of a is > 2.\n",
    "\n",
    "print(bool_idx)"
   ]
  },
  {
   "cell_type": "markdown",
   "metadata": {
    "id": "Z3XOgAC_PdO6"
   },
   "source": [
    "## Data Types"
   ]
  },
  {
   "cell_type": "code",
   "execution_count": null,
   "metadata": {
    "colab": {
     "base_uri": "https://localhost:8080/"
    },
    "id": "DVX6cBRXPd-q",
    "outputId": "9425fca6-f52f-4e5e-8df0-51bc3ab90674"
   },
   "outputs": [
    {
     "data": {
      "text/plain": [
       "array([1., 2., 3.])"
      ]
     },
     "execution_count": 29,
     "metadata": {},
     "output_type": "execute_result"
    }
   ],
   "source": [
    "# Working with data types (dtype)\n",
    "\n",
    "arr = np.array([1,2,3])\n",
    "arr.dtype        # Current type\n",
    "arr.astype(float)  # Convert to float"
   ]
  },
  {
   "cell_type": "markdown",
   "metadata": {
    "id": "XLIvy8Z2NTZM"
   },
   "source": [
    "### Math Functions\n",
    "What makes working with `numpy` so powerful and convenient is that it\n",
    "comes with many *vectorized* math functions for computation over\n",
    "elements of an array. These functions are highly optimized and are\n",
    "*very* fast - much, much faster than using an explicit `for` loop.\n",
    "\n",
    "For example, let’s create a large array of random values and then sum it\n",
    "both ways. We’ll use a `%%time` *cell magic* to time them."
   ]
  },
  {
   "cell_type": "code",
   "execution_count": null,
   "metadata": {
    "colab": {
     "base_uri": "https://localhost:8080/"
    },
    "id": "6U1SK-anNUt2",
    "outputId": "bb599f57-0d44-4040-a26e-f3c0f16bdcc0"
   },
   "outputs": [
    {
     "data": {
      "text/plain": [
       "100000000"
      ]
     },
     "execution_count": 30,
     "metadata": {},
     "output_type": "execute_result"
    }
   ],
   "source": [
    "a = np.random.random(100000000)\n",
    "len(a)"
   ]
  },
  {
   "cell_type": "markdown",
   "metadata": {
    "id": "oecKDxngNW41"
   },
   "source": [
    "Look at the “Wall Time” in the output - note how much faster the\n",
    "vectorized version of the operation is! This type of fast computation is\n",
    "a major enabler of machine learning, which requires a *lot* of\n",
    "computation.\n",
    "\n",
    "Whenever possible, we will try to use these vectorized operations."
   ]
  },
  {
   "cell_type": "markdown",
   "metadata": {
    "id": "RR72g6mVNcxc"
   },
   "source": [
    "Some mathematic functions are available both as operator overloads and\n",
    "as functions in the numpy module."
   ]
  },
  {
   "cell_type": "markdown",
   "metadata": {
    "id": "tS8tfMmLNdX9"
   },
   "source": [
    "For example, you can perform an elementwise sum on two arrays using\n",
    "either the + operator or the `add()` function.\n",
    "\n",
    "![](http://jalammar.github.io/images/numpy/numpy-arrays-adding-1.png)\n",
    "\n",
    "![](http://jalammar.github.io/images/numpy/numpy-matrix-arithmetic.png)"
   ]
  },
  {
   "cell_type": "code",
   "execution_count": null,
   "metadata": {
    "colab": {
     "base_uri": "https://localhost:8080/"
    },
    "id": "j_aGHqkeNi-f",
    "outputId": "018bfd27-2d33-46d9-ad7a-1c836bc4c455"
   },
   "outputs": [
    {
     "name": "stdout",
     "output_type": "stream",
     "text": [
      "[[ 6.  8.]\n",
      " [10. 12.]]\n",
      "[[ 6.  8.]\n",
      " [10. 12.]]\n"
     ]
    }
   ],
   "source": [
    "x = np.array([[1,2],[3,4]], dtype=np.float64)\n",
    "y = np.array([[5,6],[7,8]], dtype=np.float64)\n",
    "\n",
    "# Elementwise sum; both produce the array\n",
    "print(x + y)\n",
    "print(np.add(x, y))"
   ]
  },
  {
   "cell_type": "markdown",
   "metadata": {
    "id": "HcD8f4WsNmvE"
   },
   "source": [
    "And this works for other operations as well, not only addition:\n",
    "\n",
    "![](http://jalammar.github.io/images/numpy/numpy-array-subtract-multiply-divide.png)"
   ]
  },
  {
   "cell_type": "code",
   "execution_count": null,
   "metadata": {
    "colab": {
     "base_uri": "https://localhost:8080/"
    },
    "id": "n25lUT6xNntU",
    "outputId": "b291dfb8-898b-4591-b984-20f8acfdd37a"
   },
   "outputs": [
    {
     "name": "stdout",
     "output_type": "stream",
     "text": [
      "[[-4. -4.]\n",
      " [-4. -4.]]\n",
      "[[-4. -4.]\n",
      " [-4. -4.]]\n"
     ]
    }
   ],
   "source": [
    "# Elementwise difference; both produce the array\n",
    "print(x - y)\n",
    "print(np.subtract(x, y))"
   ]
  },
  {
   "cell_type": "code",
   "execution_count": null,
   "metadata": {
    "colab": {
     "base_uri": "https://localhost:8080/"
    },
    "id": "K8suRlLINr7k",
    "outputId": "7aee24cf-2485-403c-c7b4-b961cc3fff8a"
   },
   "outputs": [
    {
     "name": "stdout",
     "output_type": "stream",
     "text": [
      "[[1.         1.41421356]\n",
      " [1.73205081 2.        ]]\n"
     ]
    }
   ],
   "source": [
    "# Elementwise square root; produces the array\n",
    "# [[ 1.          1.41421356]\n",
    "#  [ 1.73205081  2.        ]]\n",
    "print(np.sqrt(x))"
   ]
  },
  {
   "cell_type": "markdown",
   "metadata": {
    "id": "OeG6hNLzNvQ-"
   },
   "source": [
    "We use the `dot()` function to compute inner\n",
    "products of vectors, to multiply a vector by a matrix, and to multiply\n",
    "matrices. `dot()` is available both as a function in the numpy module\n",
    "and as an instance method of array objects:\n",
    "\n",
    "![](http://jalammar.github.io/images/numpy/numpy-matrix-dot-product-1.png)"
   ]
  },
  {
   "cell_type": "code",
   "execution_count": null,
   "metadata": {
    "colab": {
     "base_uri": "https://localhost:8080/"
    },
    "id": "DEyqOjQpNzQs",
    "outputId": "6abf08bb-1842-41c5-d735-fd783456f65c"
   },
   "outputs": [
    {
     "name": "stdout",
     "output_type": "stream",
     "text": [
      "219\n",
      "219\n"
     ]
    }
   ],
   "source": [
    "x = np.array([[1,2],[3,4]])\n",
    "y = np.array([[5,6],[7,8]])\n",
    "\n",
    "v = np.array([9,10])\n",
    "w = np.array([11, 12])\n",
    "\n",
    "# Inner product of vectors; both produce 219\n",
    "print(v.dot(w))\n",
    "print(np.dot(v, w))"
   ]
  },
  {
   "cell_type": "code",
   "execution_count": null,
   "metadata": {
    "colab": {
     "base_uri": "https://localhost:8080/"
    },
    "id": "GUTs_o0EN2b0",
    "outputId": "24b18a55-2551-4969-dcd5-8039774b2cf8"
   },
   "outputs": [
    {
     "name": "stdout",
     "output_type": "stream",
     "text": [
      "[[19 22]\n",
      " [43 50]]\n"
     ]
    }
   ],
   "source": [
    "print(np.dot(x, y))"
   ]
  },
  {
   "cell_type": "markdown",
   "metadata": {
    "id": "HuBYO6XrN5mM"
   },
   "source": [
    "Besides for the functions that overload operators, Numpy also provides\n",
    "many useful functions for performing computations on arrays, such as\n",
    "`min()`, `max()`, `sum()`, and others:\n",
    "\n",
    "![](http://jalammar.github.io/images/numpy/numpy-matrix-aggregation-1.png)"
   ]
  },
  {
   "cell_type": "code",
   "execution_count": null,
   "metadata": {
    "colab": {
     "base_uri": "https://localhost:8080/"
    },
    "id": "8s7O3GNfN9qF",
    "outputId": "9cdbb853-234c-4e46-ef48-fdcb4eb18fc1"
   },
   "outputs": [
    {
     "name": "stdout",
     "output_type": "stream",
     "text": [
      "6\n",
      "1\n",
      "21\n"
     ]
    }
   ],
   "source": [
    "x = np.array([[1, 2], [3, 4], [5, 6]])\n",
    "\n",
    "print(np.max(x))\n",
    "print(np.min(x))\n",
    "print(np.sum(x))"
   ]
  },
  {
   "cell_type": "markdown",
   "metadata": {
    "id": "aTcxO0yvN_7k"
   },
   "source": [
    "Not only can we aggregate all the values in a matrix using these\n",
    "functions, but we can also aggregate across the rows or columns by using\n",
    "the `axis` parameter:\n",
    "\n",
    "![](http://jalammar.github.io/images/numpy/numpy-matrix-aggregation-4.png)"
   ]
  },
  {
   "cell_type": "code",
   "execution_count": null,
   "metadata": {
    "colab": {
     "base_uri": "https://localhost:8080/"
    },
    "id": "C0r4fyQqODdE",
    "outputId": "2dc324b0-ffb7-4d7f-ceec-382ed4e5ce10"
   },
   "outputs": [
    {
     "name": "stdout",
     "output_type": "stream",
     "text": [
      "[5 6]\n",
      "[2 5 6]\n"
     ]
    }
   ],
   "source": [
    "x = np.array([[1, 2], [5, 3], [4, 6]])\n",
    "\n",
    "print(np.max(x, axis=0))  # Compute max of each column; prints \"[5 6]\"\n",
    "print(np.max(x, axis=1))  # Compute max of each row; prints \"[2 5 6]\""
   ]
  },
  {
   "cell_type": "markdown",
   "metadata": {
    "id": "GDfQ6GnxOG6V"
   },
   "source": [
    "You can find the full list of mathematical functions provided by numpy\n",
    "in the\n",
    "[documentation](http://docs.scipy.org/doc/numpy/reference/routines.math.html)."
   ]
  },
  {
   "cell_type": "markdown",
   "metadata": {
    "id": "g6VcdrWoOKNF"
   },
   "source": [
    "Apart from computing mathematical functions using arrays, we frequently\n",
    "need to reshape or otherwise manipulate data in arrays. The simplest\n",
    "example of this type of operation is transposing a matrix; to transpose\n",
    "a matrix, simply use the T attribute of an array object.\n",
    "\n",
    "![](http://jalammar.github.io/images/numpy/numpy-transpose.png)"
   ]
  },
  {
   "cell_type": "code",
   "execution_count": null,
   "metadata": {
    "colab": {
     "base_uri": "https://localhost:8080/"
    },
    "id": "xIH36CW_OIYk",
    "outputId": "017c48cf-83b8-4dc9-a121-467b31dd86cb"
   },
   "outputs": [
    {
     "name": "stdout",
     "output_type": "stream",
     "text": [
      "[[1 2]\n",
      " [3 4]\n",
      " [5 6]]\n",
      "transpose\n",
      " [[1 3 5]\n",
      " [2 4 6]]\n"
     ]
    }
   ],
   "source": [
    "x = np.array([[1, 2], [3, 4], [5, 6]])\n",
    "\n",
    "print(x)\n",
    "print(\"transpose\\n\", x.T)"
   ]
  },
  {
   "cell_type": "markdown",
   "metadata": {
    "id": "KRho7kTSRNoa"
   },
   "source": [
    "## Linear Algebra"
   ]
  },
  {
   "cell_type": "code",
   "execution_count": null,
   "metadata": {
    "colab": {
     "base_uri": "https://localhost:8080/"
    },
    "id": "pTs0IvLcRQEI",
    "outputId": "163eccd6-27c5-4183-c6ad-2d079d3f4d2a"
   },
   "outputs": [
    {
     "data": {
      "text/plain": [
       "array([0. , 0.5])"
      ]
     },
     "execution_count": 31,
     "metadata": {},
     "output_type": "execute_result"
    }
   ],
   "source": [
    "# Linear algebra operations\n",
    "\n",
    "A = np.array([[1,2],[3,4]])\n",
    "B = np.array([[5,6],[7,8]])\n",
    "\n",
    "np.dot(A,B)       # Dot product\n",
    "A @ B             # Matrix multiplication\n",
    "\n",
    "np.linalg.det(A)  # Determinant\n",
    "np.linalg.inv(A)  # Inverse\n",
    "np.linalg.eig(A)  # Eigenvalues and eigenvectors\n",
    "np.linalg.solve(A, np.array([1,2]))  # Solve Ax=b"
   ]
  },
  {
   "cell_type": "markdown",
   "metadata": {
    "id": "5YCMePm0Re0y"
   },
   "source": [
    "## Statistics & Probability"
   ]
  },
  {
   "cell_type": "code",
   "execution_count": null,
   "metadata": {
    "colab": {
     "base_uri": "https://localhost:8080/"
    },
    "id": "EWBMe6J-RglB",
    "outputId": "0bcdaba1-cfc9-44ce-f0ee-25174755bec7"
   },
   "outputs": [
    {
     "data": {
      "text/plain": [
       "array([4, 4, 4, 5, 5])"
      ]
     },
     "execution_count": 32,
     "metadata": {},
     "output_type": "execute_result"
    }
   ],
   "source": [
    "# Statistics and probability\n",
    "\n",
    "arr = np.array([1,2,3,4,5])\n",
    "np.mean(arr)\n",
    "np.median(arr)\n",
    "np.std(arr)\n",
    "np.percentile(arr, 75)\n",
    "\n",
    "# Random numbers\n",
    "np.random.seed(42)\n",
    "np.random.normal(0,1,10)   # Normal distribution\n",
    "np.random.binomial(n=10, p=0.5, size=5)  # Binomial distribution"
   ]
  },
  {
   "cell_type": "markdown",
   "metadata": {
    "id": "2KwE9Jj7RkR5"
   },
   "source": [
    "## Structured Arrays"
   ]
  },
  {
   "cell_type": "code",
   "execution_count": null,
   "metadata": {
    "colab": {
     "base_uri": "https://localhost:8080/"
    },
    "id": "Gu0L-Q9IRrYA",
    "outputId": "2296dd3a-bfa8-495a-fd3e-0e86dc1758d0"
   },
   "outputs": [
    {
     "data": {
      "text/plain": [
       "array([25, 30], dtype=int32)"
      ]
     },
     "execution_count": 33,
     "metadata": {},
     "output_type": "execute_result"
    }
   ],
   "source": [
    "# Structured arrays with named fields\n",
    "\n",
    "dt = np.dtype([('name','S10'), ('age','i4')])\n",
    "arr = np.array([('Alice',25),('Bob',30)], dtype=dt)\n",
    "arr['name']\n",
    "arr['age']"
   ]
  },
  {
   "cell_type": "markdown",
   "metadata": {
    "id": "GyRsOgP6Rxqb"
   },
   "source": [
    "## Special Functions"
   ]
  },
  {
   "cell_type": "code",
   "execution_count": null,
   "metadata": {
    "colab": {
     "base_uri": "https://localhost:8080/"
    },
    "id": "dyJFvpxjR0mJ",
    "outputId": "232a646b-fb47-4dcf-a8f2-403ef504b9e7"
   },
   "outputs": [
    {
     "data": {
      "text/plain": [
       "array([1, 2, 6])"
      ]
     },
     "execution_count": 34,
     "metadata": {},
     "output_type": "execute_result"
    }
   ],
   "source": [
    "# Special utility functions\n",
    "\n",
    "arr = np.arange(5)\n",
    "\n",
    "x, y = np.meshgrid(arr, arr)\n",
    "np.tile(arr, 2)\n",
    "np.repeat(arr, 3)\n",
    "np.unique([1,2,2,3])\n",
    "np.argsort([3,1,2])\n",
    "np.diff([1,2,4,7])\n",
    "np.gradient([1,2,4,7])\n",
    "np.cumsum([1,2,3])\n",
    "np.cumprod([1,2,3])"
   ]
  },
  {
   "cell_type": "markdown",
   "metadata": {
    "id": "trjxR8cxR9ja"
   },
   "source": [
    "## Missing Data"
   ]
  },
  {
   "cell_type": "code",
   "execution_count": null,
   "metadata": {
    "id": "sp2a0ZAHR_3o"
   },
   "outputs": [],
   "source": [
    "# Handling missing data\n",
    "\n",
    "arr = np.array([1,2,np.nan,4])\n",
    "np.nanmean(arr)\n",
    "np.nanmax(arr)\n",
    "\n",
    "import numpy.ma as ma\n",
    "ma.masked_array(arr, mask=[0,0,1,0])"
   ]
  },
  {
   "cell_type": "markdown",
   "metadata": {
    "id": "Ms11fq-PbXlI"
   },
   "source": [
    "### Lab Task\n",
    "#### Question # 01\n",
    "1. Create a random 3x3 matrix M. Compute:\n",
    "* transpose, determinant, inverse\n",
    "* eigenvalues & eigenvectors\n",
    "2. Create two matrices X (3x4) and Y (4x2). Perform matrix multiplication.\n",
    "3. Solve the system of equations using NumPy:\n",
    "\n",
    "$$\n",
    "\\begin{cases}\n",
    "2x+y−z=8 \\\\\n",
    "−3x−y+2z=−11 \\\\\n",
    "−2x+y+2z=−3\n",
    "\\end{cases}\n",
    "$$\n",
    "\n",
    "    (Hint: Represent as 𝐴𝑋=𝐵)\n",
    "\n",
    "#### Question # 02\n",
    "1. Create a 10×10 matrix of random integers between 1–100.\n",
    "* Extract the main diagonal & compute its mean.\n",
    "* Replace the last column with the sum of each row.\n",
    "2. Generate a 5×5 matrix where each element is defined as A[i,j] = i^2 + j^2.\n",
    "* Without using loops, just NumPy broadcasting.\n",
    "3. Create a 1D array of size 20 with random integers.\n",
    "* Replace all values greater than the mean with -1.\n",
    "* Extract the indices of the top 5 largest elements.\n",
    "\n",
    "#### Question # 03\n",
    "##### Stock Trading Decision Using Linear Regression  \n",
    "\n",
    "You are an investor deciding whether to buy a stock or keep cash. You will use linear regression (implemented only with NumPy) to predict the next day’s price and guide your decision.  \n",
    "\n",
    "##### **1. Generate Stock Prices (Synthetic Data)**  \n",
    "\n",
    "We simulate prices with a **true trend** (linear growth) plus random noise:  \n",
    "\n",
    "$$y_t = \\text{intercept} + \\text{slope} \\cdot t + \\epsilon_t$$  \n",
    "\n",
    "where:  \n",
    "- slope = 0.2 → true upward trend per day  \n",
    "- intercept = 50.0 → starting baseline  \n",
    "- $$\\epsilon_t \\sim \\mathcal{N}(0, 1.5)$$ → random noise  \n",
    "\n",
    "Formula in NumPy:  \n",
    "\n",
    "$$\\text{prices} = \\text{intercept} + \\text{slope} \\cdot \\text{days} + \\text{noise}$$  \n",
    "\n",
    "Represent days as:  \n",
    "\n",
    "$$X = [1, 2, 3, \\dots, 100]$$  \n",
    "\n",
    "Represent prices as:  \n",
    "\n",
    "$$y = [y_1, y_2, \\dots, y_{100}]$$  \n",
    "\n",
    "##### **2. Fit Linear Regression**  \n",
    "\n",
    "Model:  \n",
    "\n",
    "$$\\hat{y} = mX + c$$  \n",
    "\n",
    "where:\n",
    "* m = slope\n",
    "* c = intercept\n",
    "\n",
    "Formulas:  \n",
    "\n",
    "$$m = \\frac{\\sum (X - \\bar{X})(y - \\bar{y})}{\\sum (X - \\bar{X})^2}$$  \n",
    "\n",
    "$$c = \\bar{y} - m \\cdot \\bar{X}$$  \n",
    "\n",
    "\n",
    "##### **3. Predict Next Day Price**  \n",
    "\n",
    "$$\\hat{y}_{101} = m \\cdot 101 + c$$  \n",
    "\n",
    "\n",
    "##### **4. Decision Rule (Buy or Cash)**  \n",
    "\n",
    "- If $$\\hat{y}_{101} > y_{100}$$ → **Buy the stock**  \n",
    "- Else → **Keep cash**  \n",
    "\n",
    "##### **5. Model Evaluation **  \n",
    "\n",
    "$$MSE = \\frac{1}{N} \\sum_{i=1}^N (y_i - \\hat{y}_i)^2$$  \n",
    "\n",
    "\n",
    "##### **6. Trading Decision Outcome**  \n",
    "\n",
    "Assume you start with **\\$1000**.  \n",
    "\n",
    "- If decision = Buy:  \n",
    "  $$\\text{Final Value} = 1000 \\cdot \\frac{y_{101}}{y_{100}}$$  \n",
    "\n",
    "- If decision = Cash:  \n",
    "  $$\\text{Final Value} = 1000$$  \n",
    "\n"
   ]
  },
  {
   "cell_type": "code",
   "execution_count": 1,
   "metadata": {
    "colab": {
     "base_uri": "https://localhost:8080/"
    },
    "executionInfo": {
     "elapsed": 20,
     "status": "ok",
     "timestamp": 1759115498215,
     "user": {
      "displayName": "Palwasha Zahid",
      "userId": "00694028190578437059"
     },
     "user_tz": -300
    },
    "id": "PmmzxrEjbXlJ",
    "outputId": "5d03d18f-edc3-46e9-af65-14f7d0986992"
   },
   "outputs": [
    {
     "name": "stdout",
     "output_type": "stream",
     "text": [
      "[1, 2, 3, 4] [1, 2, 3, 4, 5]\n"
     ]
    }
   ],
   "source": [
    "x = [1, 2, 3]\n",
    "y = x\n",
    "x.append(4)\n",
    "y = y + [5]\n",
    "print(x, y)\n"
   ]
  },
  {
   "cell_type": "code",
   "execution_count": 2,
   "metadata": {
    "colab": {
     "base_uri": "https://localhost:8080/"
    },
    "executionInfo": {
     "elapsed": 50,
     "status": "ok",
     "timestamp": 1759115543731,
     "user": {
      "displayName": "Palwasha Zahid",
      "userId": "00694028190578437059"
     },
     "user_tz": -300
    },
    "id": "fQjeAF8ldPqw",
    "outputId": "6f84bb43-a10a-43f6-bb44-ad711f58532e"
   },
   "outputs": [
    {
     "name": "stdout",
     "output_type": "stream",
     "text": [
      "\n",
      "\n",
      "\n",
      "\n"
     ]
    }
   ],
   "source": [
    "for i in range(-1, -5, -1):\n",
    "    print(i * \" * \")\n"
   ]
  },
  {
   "cell_type": "code",
   "execution_count": 3,
   "metadata": {
    "colab": {
     "base_uri": "https://localhost:8080/"
    },
    "executionInfo": {
     "elapsed": 30,
     "status": "ok",
     "timestamp": 1759115616444,
     "user": {
      "displayName": "Palwasha Zahid",
      "userId": "00694028190578437059"
     },
     "user_tz": -300
    },
    "id": "kAm4SHfWdhSq",
    "outputId": "560eb87c-9c92-41c1-d9d5-11ad883c09fc"
   },
   "outputs": [
    {
     "name": "stdout",
     "output_type": "stream",
     "text": [
      "True branch\n"
     ]
    }
   ],
   "source": [
    "a, b, c = 5, 10, 0\n",
    "if a < b < c or c == 0 and not a == b:\n",
    "    print(\"True branch\")\n",
    "else:\n",
    "    print(\"False branch\")\n"
   ]
  },
  {
   "cell_type": "code",
   "execution_count": 4,
   "metadata": {
    "colab": {
     "base_uri": "https://localhost:8080/"
    },
    "executionInfo": {
     "elapsed": 16,
     "status": "ok",
     "timestamp": 1759115681751,
     "user": {
      "displayName": "Palwasha Zahid",
      "userId": "00694028190578437059"
     },
     "user_tz": -300
    },
    "id": "T6eUF58edxY8",
    "outputId": "a20aff44-8340-43b0-ea93-e78319d456ce"
   },
   "outputs": [
    {
     "name": "stdout",
     "output_type": "stream",
     "text": [
      "tho\n"
     ]
    }
   ],
   "source": [
    "s = \"Python\"\n",
    "print(s[::-1][::-1][2:5])\n"
   ]
  },
  {
   "cell_type": "code",
   "execution_count": 5,
   "metadata": {
    "colab": {
     "base_uri": "https://localhost:8080/"
    },
    "executionInfo": {
     "elapsed": 20,
     "status": "ok",
     "timestamp": 1759115765875,
     "user": {
      "displayName": "Palwasha Zahid",
      "userId": "00694028190578437059"
     },
     "user_tz": -300
    },
    "id": "0GoxL5X9eF6A",
    "outputId": "dfdffd1c-9b6b-4543-d0b3-f79ed156534e"
   },
   "outputs": [
    {
     "name": "stdout",
     "output_type": "stream",
     "text": [
      "[1]\n",
      "[1, 2]\n",
      "[3]\n",
      "[1, 2, 4]\n"
     ]
    }
   ],
   "source": [
    "def tricky(x, lst=[]):\n",
    "    lst.append(x)\n",
    "    return lst\n",
    "\n",
    "print(tricky(1))\n",
    "print(tricky(2))\n",
    "print(tricky(3, []))\n",
    "print(tricky(4))\n"
   ]
  }
 ],
 "metadata": {
  "colab": {
   "provenance": []
  },
  "kernelspec": {
   "display_name": "Python 3 (ipykernel)",
   "language": "python",
   "name": "python3"
  },
  "language_info": {
   "codemirror_mode": {
    "name": "ipython",
    "version": 3
   },
   "file_extension": ".py",
   "mimetype": "text/x-python",
   "name": "python",
   "nbconvert_exporter": "python",
   "pygments_lexer": "ipython3",
   "version": "3.12.3"
  }
 },
 "nbformat": 4,
 "nbformat_minor": 4
}
