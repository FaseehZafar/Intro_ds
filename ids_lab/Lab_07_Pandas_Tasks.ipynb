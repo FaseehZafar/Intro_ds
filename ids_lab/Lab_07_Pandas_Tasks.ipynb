{
 "cells": [
  {
   "cell_type": "markdown",
   "id": "10456980-a877-4e15-9c66-6fec24d2c3da",
   "metadata": {
    "id": "10456980-a877-4e15-9c66-6fec24d2c3da"
   },
   "source": [
    "# Lab tasks\n",
    "### Dataset Description\n",
    "This dataset contains information about 1,000 movies and web-series released across major streaming platforms (Netflix, Amazon Prime, Disney+, Hulu, HBO Max, and Theaters). It’s designed to simulate real-world entertainment industry data used by analysts for content performance tracking and recommendation systems.\n",
    "\n",
    "### Columns Description:\n",
    "* movie_id: Unique identifier for each movie/series\n",
    "* title: Name of the movie or show\n",
    "* platform: Platform where it was released (Netflix, Prime, Disney+, Hulu, HBO, Theater)\n",
    "* genre: Movie genre (Action, Drama, Comedy, Sci-Fi, Romance, Documentary, Thriller)\n",
    "* release_year: Year of release (1990–2025)\n",
    "* budget_million: Production budget in millions (1–300M)\n",
    "* box_office_million: Box office or streaming revenue in millions (0.5–1000M)\n",
    "* critic_score: Critic ratings (40–100)\n",
    "* audience_score: Viewer ratings (1–10)\n",
    "* views_million: Number of total global views (0.1–500M)\n",
    "* region: Main release region (NA, EU, Asia, SA, Africa, Oceania)"
   ]
  },
  {
   "cell_type": "markdown",
   "id": "45609940-6e4e-4dc3-9ed5-11c8e8243d82",
   "metadata": {
    "id": "45609940-6e4e-4dc3-9ed5-11c8e8243d82"
   },
   "source": [
    "### Question # 01\n",
    "As a data analyst at CineVision Analytics, your task is to explore and understand movie performance trends.\n",
    "\n",
    "* Load the dataset and display its basic information (shape, column types, missing values).\n",
    "* Compute summary statistics for numeric columns and detect any unusual values.\n",
    "* Identify the top 5 genres by average box_office_million and views_million.\n",
    "* Find which platform has the highest average critic_score and audience_score.\n",
    "* Explore release trends:\n",
    "  * Movies released per year\n",
    "  * Compare pre-2020 vs post-2020 releases (count & average revenue)\n",
    "* Correlation Analysis:\n",
    "  * Find correlation between budget_million, box_office_million, views_million, and critic_score.\n",
    "* Determine which region dominates in terms of:\n",
    "  * Highest total revenue\n",
    "  * Highest average audience score\n",
    "* Plot at least three visualizations (bar chart, histogram, scatter plot) that best describe insights about the movie industry.\n",
    "\n"
   ]
  },
  {
   "cell_type": "code",
   "execution_count": null,
   "id": "3ca30b9c-b1a8-446a-8615-ed2174d7e6c3",
   "metadata": {
    "id": "3ca30b9c-b1a8-446a-8615-ed2174d7e6c3"
   },
   "outputs": [],
   "source": [
    "# Solution # 01"
   ]
  },
  {
   "cell_type": "markdown",
   "id": "ed4c0ec0-cb2c-4282-9b5a-497290507441",
   "metadata": {
    "id": "ed4c0ec0-cb2c-4282-9b5a-497290507441"
   },
   "source": [
    "### Question # 02\n",
    "\n",
    "You are preparing a strategic analysis report for a streaming company to evaluate profitability and predict future movie performance.\n",
    "\n",
    "1. Profitability Analysis:\n",
    "    Create a new column profit_margin = (box_office_million - budget_million) / budget_million * 100, and identify the top 10 most profitable movies overall and by genre.\n",
    "\n",
    "2. Genre & Platform Comparison:\n",
    "    Compare average profit_margin, critic_score, and audience_score across all genres and platforms using grouped summaries and visualizations.\n",
    "\n",
    "3. Predictive Modeling:\n",
    "    Build a Linear Regression model to predict box_office_million using features budget_million, critic_score, audience_score, and views_million. Report model accuracy (R² score) and interpret key factors influencing movie revenue.\n",
    "\n",
    "4. Business Insights:\n",
    "    From your analysis, provide three actionable recommendations for company management—such as which genres or platforms show the best profitability trends and where investment should be increased."
   ]
  },
  {
   "cell_type": "code",
   "execution_count": null,
   "id": "31e2cbb6-2525-4ea4-8158-90cbe5d17569",
   "metadata": {
    "id": "31e2cbb6-2525-4ea4-8158-90cbe5d17569"
   },
   "outputs": [],
   "source": [
    "# Solution 2"
   ]
  },
  {
   "cell_type": "code",
   "execution_count": null,
   "id": "1d0611d1-3bcd-424e-a14e-073903bc6092",
   "metadata": {},
   "outputs": [],
   "source": []
  }
 ],
 "metadata": {
  "colab": {
   "provenance": []
  },
  "kernelspec": {
   "display_name": "Python 3 (ipykernel)",
   "language": "python",
   "name": "python3"
  },
  "language_info": {
   "codemirror_mode": {
    "name": "ipython",
    "version": 3
   },
   "file_extension": ".py",
   "mimetype": "text/x-python",
   "name": "python",
   "nbconvert_exporter": "python",
   "pygments_lexer": "ipython3",
   "version": "3.12.3"
  }
 },
 "nbformat": 4,
 "nbformat_minor": 5
}
