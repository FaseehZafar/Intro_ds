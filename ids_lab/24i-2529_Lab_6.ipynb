{
 "cells": [
  {
   "cell_type": "code",
   "execution_count": 9,
   "id": "ce5dc571-83d6-4a64-871c-6442a11132ae",
   "metadata": {},
   "outputs": [
    {
     "name": "stdout",
     "output_type": "stream",
     "text": [
      "Matrix:\n",
      " [[1 2 3]\n",
      " [4 5 6]\n",
      " [7 8 9]]\n",
      "Transpose:\n",
      " [[1 4 7]\n",
      " [2 5 8]\n",
      " [3 6 9]]\n",
      "Determinant: 0.0\n",
      "Matrix is singular → Inverse does not exist.\n",
      "Eigenvalues:\n",
      " EigResult(eigenvalues=array([ 1.61168440e+01, -1.11684397e+00, -1.30367773e-15]), eigenvectors=array([[-0.23197069, -0.78583024,  0.40824829],\n",
      "       [-0.52532209, -0.08675134, -0.81649658],\n",
      "       [-0.8186735 ,  0.61232756,  0.40824829]]))\n"
     ]
    }
   ],
   "source": [
    "# Question 1(a)\n",
    "import numpy as np\n",
    "\n",
    "# Creating 3x3 array\n",
    "a = np.array([[1, 2, 3],\n",
    "              [4, 5, 6],\n",
    "              [7, 8, 9]])\n",
    "\n",
    "print(\"Matrix:\\n\", a)\n",
    "print(\"Transpose:\\n\", a.T)\n",
    "\n",
    "determinant = np.linalg.det(a)\n",
    "print(\"Determinant:\", determinant)\n",
    "\n",
    "if np.isclose(determinant, 0):\n",
    "    print(\"Matrix is singular → Inverse does not exist.\")\n",
    "else:\n",
    "    inverse = np.linalg.inv(a)\n",
    "    print(\"Inverse:\\n\", inverse)\n",
    "\n",
    "eigvals= np.linalg.eig(a)\n",
    "print(\"Eigenvalues:\\n\", eigvals)"
   ]
  },
  {
   "cell_type": "code",
   "execution_count": 10,
   "id": "704d1cd0-ff4e-4669-9461-3d2fb796f635",
   "metadata": {},
   "outputs": [
    {
     "name": "stdout",
     "output_type": "stream",
     "text": [
      "Matrix X:\n",
      " [[ 1  2  3  4]\n",
      " [ 5  6  7  8]\n",
      " [ 9 10 11 12]]\n",
      "Matrix Y:\n",
      " [[2 0]\n",
      " [1 2]\n",
      " [0 1]\n",
      " [1 0]]\n",
      "Result of X * Y:\n",
      " [[ 8  7]\n",
      " [24 19]\n",
      " [40 31]]\n"
     ]
    }
   ],
   "source": [
    "#Question no 1(b)\n",
    "import numpy as np\n",
    "\n",
    "# Create matrices\n",
    "X = np.array([[1, 2, 3, 4],\n",
    "              [5, 6, 7, 8],\n",
    "              [9, 10, 11, 12]])   # 3x4 matrix\n",
    "\n",
    "Y = np.array([[2, 0],\n",
    "              [1, 2],\n",
    "              [0, 1],\n",
    "              [1, 0]])            # 4x2 matrix\n",
    "\n",
    "print(\"Matrix X:\\n\", X)\n",
    "print(\"Matrix Y:\\n\", Y)\n",
    "\n",
    "\n",
    "Z = np.dot(X, Y)  \n",
    "print(\"Result of X * Y:\\n\", Z)\n"
   ]
  },
  {
   "cell_type": "code",
   "execution_count": 12,
   "id": "db988476-fe2f-4525-9b3f-197324eedd11",
   "metadata": {},
   "outputs": [
    {
     "name": "stdout",
     "output_type": "stream",
     "text": [
      "Coefficient Matrix A:\n",
      " [[ 2  1 -1]\n",
      " [-3 -1  2]\n",
      " [-2  1  2]]\n",
      "Constants B:\n",
      " [  8 -11  -3]\n",
      "Solution (x, y, z): [ 2.  3. -1.]\n"
     ]
    }
   ],
   "source": [
    "# Question 1(c)\n",
    "import numpy as np\n",
    "\n",
    "#(A)\n",
    "A = np.array([[2, 1, -1],\n",
    "              [-3,-1, 2],\n",
    "              [-2, 1, 2]])\n",
    "\n",
    "#(B)\n",
    "B = np.array([8,-11,-3])\n",
    "\n",
    "print(\"Coefficient Matrix A:\\n\", A)\n",
    "print(\"Constants B:\\n\", B)\n",
    "\n",
    "X = np.linalg.solve(A, B)\n",
    "print(\"Solution (x, y, z):\", X)\n"
   ]
  },
  {
   "cell_type": "code",
   "execution_count": 23,
   "id": "b53fe367-414e-4ee5-a2a1-1c8f8cb26454",
   "metadata": {},
   "outputs": [
    {
     "name": "stdout",
     "output_type": "stream",
     "text": [
      "Original 10x10 Matrix:\n",
      " [[ 72  68  21  58  99  85  14  20  41  74]\n",
      " [ 29   9   5   6  60   9  38  33  53  19]\n",
      " [ 99  33  29  79  91   8  63  69  60  86]\n",
      " [ 61  72  19 100   8  51  44  84  35  78]\n",
      " [ 90  13  54  67  38  35  15  77  15  86]\n",
      " [ 77  49  71   9  25  90  89  86  19  97]\n",
      " [100   8  26  16  87  38  10  84  82  79]\n",
      " [ 92   7  93  28  29  58   1  69  19  13]\n",
      " [ 85  31  61  64  46  97  10  68  59  81]\n",
      " [ 36   4  50  63  57   7  52  82  34  85]]\n",
      "\n",
      "Main Diagonal: [ 72   9  29 100  38  90  10  69  59  85]\n",
      "Mean of Diagonal: 56.1\n",
      "\n",
      "Modified Matrix (last column replaced with row sums):\n",
      " [[ 72  68  21  58  99  85  14  20  41 552]\n",
      " [ 29   9   5   6  60   9  38  33  53 261]\n",
      " [ 99  33  29  79  91   8  63  69  60 617]\n",
      " [ 61  72  19 100   8  51  44  84  35 552]\n",
      " [ 90  13  54  67  38  35  15  77  15 490]\n",
      " [ 77  49  71   9  25  90  89  86  19 612]\n",
      " [100   8  26  16  87  38  10  84  82 530]\n",
      " [ 92   7  93  28  29  58   1  69  19 409]\n",
      " [ 85  31  61  64  46  97  10  68  59 602]\n",
      " [ 36   4  50  63  57   7  52  82  34 470]]\n"
     ]
    }
   ],
   "source": [
    "#Question no 2(a)\n",
    "import numpy as np\n",
    "\n",
    "A = np.random.randint(1, 101, size=(10, 10))\n",
    "print(\"Original 10x10 Matrix:\\n\", A)\n",
    "\n",
    "diagonal = np.diag(A)\n",
    "mean = np.mean(diagonal)\n",
    "print(\"\\nMain Diagonal:\", diagonal)\n",
    "print(\"Mean of Diagonal:\", mean)\n",
    "\n",
    "row_sums = np.sum(A, axis=1)\n",
    "A[:, -1] = row_sums\n",
    "print(\"\\nModified Matrix (last column replaced with row sums):\\n\", A)\n"
   ]
  },
  {
   "cell_type": "code",
   "execution_count": 19,
   "id": "31e34c74-4b91-4a86-a155-d90cdcbacedb",
   "metadata": {},
   "outputs": [
    {
     "name": "stdout",
     "output_type": "stream",
     "text": [
      "5x5 Matrix:\n",
      " [[ 0  1  4  9 16]\n",
      " [ 1  2  5 10 17]\n",
      " [ 4  5  8 13 20]\n",
      " [ 9 10 13 18 25]\n",
      " [16 17 20 25 32]]\n"
     ]
    }
   ],
   "source": [
    "#Question no 2(b)\n",
    "import numpy as np\n",
    "n = 5\n",
    "\n",
    "i = np.arange(n).reshape(n, 1)   # column vector\n",
    "j = np.arange(n).reshape(1, n)   # row vector\n",
    "\n",
    "A = i**2 + j**2\n",
    "print(\"5x5 Matrix:\\n\", A)\n",
    "\n"
   ]
  },
  {
   "cell_type": "code",
   "execution_count": 31,
   "id": "f3f5b5da-3706-4996-8787-91b58f860c62",
   "metadata": {},
   "outputs": [
    {
     "name": "stdout",
     "output_type": "stream",
     "text": [
      "Original Array:\n",
      " [65 25 73  2 22 23 83 33 57 32 91 85 91 76 10 38  3 39 23 69]\n",
      "Modified Array:\n",
      " [-1 25 -1  2 22 23 -1 33 -1 32 -1 -1 -1 -1 10 38  3 39 23 -1]\n",
      "Indices of Top 5 Elements:\n",
      " [17 15  7  9  1]\n"
     ]
    }
   ],
   "source": [
    "#Question no 2(c)\n",
    "import numpy as np\n",
    "\n",
    "A = np.random.randint(1, 101, size=20)\n",
    "print(\"Original Array:\\n\", A)\n",
    "\n",
    "mean = np.mean(A)\n",
    "A[A > mean] = -1\n",
    "print(\"Modified Array:\\n\", A)\n",
    "\n",
    "indices = np.argsort(A)[-5:][::-1]\n",
    "print(\"Indices of Top 5 Elements:\\n\", indices)\n"
   ]
  },
  {
   "cell_type": "code",
   "execution_count": 55,
   "id": "69b0c1b9-1ce1-4bb7-9f8c-b7c035d38e49",
   "metadata": {},
   "outputs": [
    {
     "name": "stdout",
     "output_type": "stream",
     "text": [
      "Predicted Next Day Price: 70.06221192234597\n",
      "Last Actual Price: 70.60298404516705\n",
      "Decision (Buy or Cash): CASH\n",
      "Final Value: 1000\n"
     ]
    }
   ],
   "source": [
    "# Question no 3 \n",
    "import numpy as np\n",
    "\n",
    "np.random.seed(0)\n",
    "days = np.arange(1, 101)\n",
    "slope = 0.2\n",
    "intercept = 50.0\n",
    "noise = np.random.normal(0, 1.5, size=100)\n",
    "prices = intercept + slope * days + noise\n",
    "\n",
    "X_mean = np.mean(days)\n",
    "y_mean = np.mean(prices)\n",
    "m = np.sum((days - X_mean) * (prices - y_mean)) / np.sum((days - X_mean) ** 2)\n",
    "c = y_mean - m * X_mean\n",
    "\n",
    "y_pred = m * days + c\n",
    "mse = np.mean((prices - y_pred) ** 2) / len(days)\n",
    "\n",
    "y_101 = m * 101 + c\n",
    "\n",
    "if y_101 > prices[99]:\n",
    "    decision = \"BUY\"\n",
    "else:\n",
    "    decision = \"CASH\"\n",
    "\n",
    "if decision == \"BUY\":\n",
    "    final_value = 100 * y_101\n",
    "else:\n",
    "    final_value = 1000\n",
    "\n",
    "print(\"Predicted Next Day Price:\", y_101)\n",
    "print(\"Last Actual Price:\", prices[99])\n",
    "print(\"Decision (Buy or Cash):\", decision)\n",
    "print(\"Final Value:\", final_value)"
   ]
  },
  {
   "cell_type": "code",
   "execution_count": null,
   "id": "6556952c-68ad-4634-aac1-c20d73dcc1ca",
   "metadata": {},
   "outputs": [],
   "source": []
  }
 ],
 "metadata": {
  "kernelspec": {
   "display_name": "Python 3 (ipykernel)",
   "language": "python",
   "name": "python3"
  },
  "language_info": {
   "codemirror_mode": {
    "name": "ipython",
    "version": 3
   },
   "file_extension": ".py",
   "mimetype": "text/x-python",
   "name": "python",
   "nbconvert_exporter": "python",
   "pygments_lexer": "ipython3",
   "version": "3.12.3"
  }
 },
 "nbformat": 4,
 "nbformat_minor": 5
}
